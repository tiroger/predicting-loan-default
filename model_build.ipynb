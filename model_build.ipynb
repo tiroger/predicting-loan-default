{
 "cells": [
  {
   "cell_type": "code",
   "execution_count": 1,
   "metadata": {},
   "outputs": [],
   "source": [
    "# Importing dependencies\n",
    "import pandas as pd\n",
    "import numpy as np\n",
    "\n",
    "import matplotlib.pyplot as plt\n",
    "import seaborn as sns\n"
   ]
  },
  {
   "cell_type": "code",
   "execution_count": 2,
   "metadata": {},
   "outputs": [
    {
     "data": {
      "text/html": [
       "<div>\n",
       "<style scoped>\n",
       "    .dataframe tbody tr th:only-of-type {\n",
       "        vertical-align: middle;\n",
       "    }\n",
       "\n",
       "    .dataframe tbody tr th {\n",
       "        vertical-align: top;\n",
       "    }\n",
       "\n",
       "    .dataframe thead th {\n",
       "        text-align: right;\n",
       "    }\n",
       "</style>\n",
       "<table border=\"1\" class=\"dataframe\">\n",
       "  <thead>\n",
       "    <tr style=\"text-align: right;\">\n",
       "      <th></th>\n",
       "      <th>Unnamed: 0</th>\n",
       "      <th>loan_amnt</th>\n",
       "      <th>term</th>\n",
       "      <th>int_rate</th>\n",
       "      <th>installment</th>\n",
       "      <th>emp_length</th>\n",
       "      <th>home_ownership</th>\n",
       "      <th>annual_inc</th>\n",
       "      <th>verification_status</th>\n",
       "      <th>loan_status</th>\n",
       "      <th>...</th>\n",
       "      <th>num_tl_90g_dpd_24m</th>\n",
       "      <th>num_tl_op_past_12m</th>\n",
       "      <th>pct_tl_nvr_dlq</th>\n",
       "      <th>percent_bc_gt_75</th>\n",
       "      <th>pub_rec_bankruptcies</th>\n",
       "      <th>tax_liens</th>\n",
       "      <th>tot_hi_cred_lim</th>\n",
       "      <th>total_bal_ex_mort</th>\n",
       "      <th>total_bc_limit</th>\n",
       "      <th>total_il_high_credit_limit</th>\n",
       "    </tr>\n",
       "  </thead>\n",
       "  <tbody>\n",
       "    <tr>\n",
       "      <th>0</th>\n",
       "      <td>2</td>\n",
       "      <td>27.144176</td>\n",
       "      <td>1</td>\n",
       "      <td>2.377693</td>\n",
       "      <td>432.66</td>\n",
       "      <td>1</td>\n",
       "      <td>0</td>\n",
       "      <td>11.050890</td>\n",
       "      <td>0</td>\n",
       "      <td>paid</td>\n",
       "      <td>...</td>\n",
       "      <td>0.0</td>\n",
       "      <td>0.0</td>\n",
       "      <td>100.0</td>\n",
       "      <td>50.0</td>\n",
       "      <td>0.0</td>\n",
       "      <td>0.0</td>\n",
       "      <td>60.223059</td>\n",
       "      <td>26.540936</td>\n",
       "      <td>18.370906</td>\n",
       "      <td>24.594526</td>\n",
       "    </tr>\n",
       "    <tr>\n",
       "      <th>1</th>\n",
       "      <td>8</td>\n",
       "      <td>21.544347</td>\n",
       "      <td>0</td>\n",
       "      <td>1.870263</td>\n",
       "      <td>306.45</td>\n",
       "      <td>6</td>\n",
       "      <td>2</td>\n",
       "      <td>11.350407</td>\n",
       "      <td>0</td>\n",
       "      <td>paid</td>\n",
       "      <td>...</td>\n",
       "      <td>0.0</td>\n",
       "      <td>2.0</td>\n",
       "      <td>95.7</td>\n",
       "      <td>28.6</td>\n",
       "      <td>1.0</td>\n",
       "      <td>0.0</td>\n",
       "      <td>39.386256</td>\n",
       "      <td>30.350337</td>\n",
       "      <td>25.406682</td>\n",
       "      <td>31.345765</td>\n",
       "    </tr>\n",
       "    <tr>\n",
       "      <th>2</th>\n",
       "      <td>13</td>\n",
       "      <td>26.207414</td>\n",
       "      <td>1</td>\n",
       "      <td>2.969388</td>\n",
       "      <td>471.70</td>\n",
       "      <td>7</td>\n",
       "      <td>2</td>\n",
       "      <td>11.918391</td>\n",
       "      <td>0</td>\n",
       "      <td>default</td>\n",
       "      <td>...</td>\n",
       "      <td>0.0</td>\n",
       "      <td>3.0</td>\n",
       "      <td>100.0</td>\n",
       "      <td>14.3</td>\n",
       "      <td>1.0</td>\n",
       "      <td>0.0</td>\n",
       "      <td>40.375424</td>\n",
       "      <td>33.094617</td>\n",
       "      <td>21.757671</td>\n",
       "      <td>31.521192</td>\n",
       "    </tr>\n",
       "    <tr>\n",
       "      <th>3</th>\n",
       "      <td>16</td>\n",
       "      <td>29.240177</td>\n",
       "      <td>0</td>\n",
       "      <td>2.013569</td>\n",
       "      <td>777.55</td>\n",
       "      <td>1</td>\n",
       "      <td>0</td>\n",
       "      <td>11.599103</td>\n",
       "      <td>0</td>\n",
       "      <td>paid</td>\n",
       "      <td>...</td>\n",
       "      <td>0.0</td>\n",
       "      <td>0.0</td>\n",
       "      <td>100.0</td>\n",
       "      <td>20.0</td>\n",
       "      <td>0.0</td>\n",
       "      <td>0.0</td>\n",
       "      <td>72.020827</td>\n",
       "      <td>40.827752</td>\n",
       "      <td>33.737307</td>\n",
       "      <td>43.465468</td>\n",
       "    </tr>\n",
       "    <tr>\n",
       "      <th>4</th>\n",
       "      <td>20</td>\n",
       "      <td>31.037762</td>\n",
       "      <td>1</td>\n",
       "      <td>2.555676</td>\n",
       "      <td>678.49</td>\n",
       "      <td>1</td>\n",
       "      <td>0</td>\n",
       "      <td>11.082143</td>\n",
       "      <td>1</td>\n",
       "      <td>paid</td>\n",
       "      <td>...</td>\n",
       "      <td>0.0</td>\n",
       "      <td>4.0</td>\n",
       "      <td>100.0</td>\n",
       "      <td>25.0</td>\n",
       "      <td>0.0</td>\n",
       "      <td>0.0</td>\n",
       "      <td>64.768407</td>\n",
       "      <td>34.896839</td>\n",
       "      <td>32.396118</td>\n",
       "      <td>24.972770</td>\n",
       "    </tr>\n",
       "  </tbody>\n",
       "</table>\n",
       "<p>5 rows × 57 columns</p>\n",
       "</div>"
      ],
      "text/plain": [
       "   Unnamed: 0  loan_amnt  term  int_rate  installment  emp_length  \\\n",
       "0           2  27.144176     1  2.377693       432.66           1   \n",
       "1           8  21.544347     0  1.870263       306.45           6   \n",
       "2          13  26.207414     1  2.969388       471.70           7   \n",
       "3          16  29.240177     0  2.013569       777.55           1   \n",
       "4          20  31.037762     1  2.555676       678.49           1   \n",
       "\n",
       "   home_ownership  annual_inc  verification_status loan_status  ...  \\\n",
       "0               0   11.050890                    0        paid  ...   \n",
       "1               2   11.350407                    0        paid  ...   \n",
       "2               2   11.918391                    0     default  ...   \n",
       "3               0   11.599103                    0        paid  ...   \n",
       "4               0   11.082143                    1        paid  ...   \n",
       "\n",
       "   num_tl_90g_dpd_24m  num_tl_op_past_12m  pct_tl_nvr_dlq  percent_bc_gt_75  \\\n",
       "0                 0.0                 0.0           100.0              50.0   \n",
       "1                 0.0                 2.0            95.7              28.6   \n",
       "2                 0.0                 3.0           100.0              14.3   \n",
       "3                 0.0                 0.0           100.0              20.0   \n",
       "4                 0.0                 4.0           100.0              25.0   \n",
       "\n",
       "   pub_rec_bankruptcies  tax_liens  tot_hi_cred_lim  total_bal_ex_mort  \\\n",
       "0                   0.0        0.0        60.223059          26.540936   \n",
       "1                   1.0        0.0        39.386256          30.350337   \n",
       "2                   1.0        0.0        40.375424          33.094617   \n",
       "3                   0.0        0.0        72.020827          40.827752   \n",
       "4                   0.0        0.0        64.768407          34.896839   \n",
       "\n",
       "   total_bc_limit  total_il_high_credit_limit  \n",
       "0       18.370906                   24.594526  \n",
       "1       25.406682                   31.345765  \n",
       "2       21.757671                   31.521192  \n",
       "3       33.737307                   43.465468  \n",
       "4       32.396118                   24.972770  \n",
       "\n",
       "[5 rows x 57 columns]"
      ]
     },
     "execution_count": 2,
     "metadata": {},
     "output_type": "execute_result"
    }
   ],
   "source": [
    "# Opening data\n",
    "final_model_data = pd.read_csv('lending-club/transformed_final_data.csv')\n",
    "final_model_data.head()"
   ]
  },
  {
   "cell_type": "code",
   "execution_count": 3,
   "metadata": {},
   "outputs": [],
   "source": [
    "# Selecting target and features\n",
    "X = final_model_data.drop(columns=['Unnamed: 0', 'loan_status'], axis=0)\n",
    "y = final_model_data.loan_status"
   ]
  },
  {
   "cell_type": "code",
   "execution_count": 4,
   "metadata": {},
   "outputs": [
    {
     "data": {
      "text/html": [
       "<div>\n",
       "<style scoped>\n",
       "    .dataframe tbody tr th:only-of-type {\n",
       "        vertical-align: middle;\n",
       "    }\n",
       "\n",
       "    .dataframe tbody tr th {\n",
       "        vertical-align: top;\n",
       "    }\n",
       "\n",
       "    .dataframe thead th {\n",
       "        text-align: right;\n",
       "    }\n",
       "</style>\n",
       "<table border=\"1\" class=\"dataframe\">\n",
       "  <thead>\n",
       "    <tr style=\"text-align: right;\">\n",
       "      <th></th>\n",
       "      <th>loan_amnt</th>\n",
       "      <th>term</th>\n",
       "      <th>int_rate</th>\n",
       "      <th>installment</th>\n",
       "      <th>emp_length</th>\n",
       "      <th>home_ownership</th>\n",
       "      <th>annual_inc</th>\n",
       "      <th>verification_status</th>\n",
       "      <th>purpose</th>\n",
       "      <th>dti</th>\n",
       "      <th>...</th>\n",
       "      <th>num_tl_90g_dpd_24m</th>\n",
       "      <th>num_tl_op_past_12m</th>\n",
       "      <th>pct_tl_nvr_dlq</th>\n",
       "      <th>percent_bc_gt_75</th>\n",
       "      <th>pub_rec_bankruptcies</th>\n",
       "      <th>tax_liens</th>\n",
       "      <th>tot_hi_cred_lim</th>\n",
       "      <th>total_bal_ex_mort</th>\n",
       "      <th>total_bc_limit</th>\n",
       "      <th>total_il_high_credit_limit</th>\n",
       "    </tr>\n",
       "  </thead>\n",
       "  <tbody>\n",
       "    <tr>\n",
       "      <th>0</th>\n",
       "      <td>27.144176</td>\n",
       "      <td>1</td>\n",
       "      <td>2.377693</td>\n",
       "      <td>432.66</td>\n",
       "      <td>1</td>\n",
       "      <td>0</td>\n",
       "      <td>11.050890</td>\n",
       "      <td>0</td>\n",
       "      <td>4</td>\n",
       "      <td>10.78</td>\n",
       "      <td>...</td>\n",
       "      <td>0.0</td>\n",
       "      <td>0.0</td>\n",
       "      <td>100.0</td>\n",
       "      <td>50.0</td>\n",
       "      <td>0.0</td>\n",
       "      <td>0.0</td>\n",
       "      <td>60.223059</td>\n",
       "      <td>26.540936</td>\n",
       "      <td>18.370906</td>\n",
       "      <td>24.594526</td>\n",
       "    </tr>\n",
       "    <tr>\n",
       "      <th>1</th>\n",
       "      <td>21.544347</td>\n",
       "      <td>0</td>\n",
       "      <td>1.870263</td>\n",
       "      <td>306.45</td>\n",
       "      <td>6</td>\n",
       "      <td>2</td>\n",
       "      <td>11.350407</td>\n",
       "      <td>0</td>\n",
       "      <td>1</td>\n",
       "      <td>13.07</td>\n",
       "      <td>...</td>\n",
       "      <td>0.0</td>\n",
       "      <td>2.0</td>\n",
       "      <td>95.7</td>\n",
       "      <td>28.6</td>\n",
       "      <td>1.0</td>\n",
       "      <td>0.0</td>\n",
       "      <td>39.386256</td>\n",
       "      <td>30.350337</td>\n",
       "      <td>25.406682</td>\n",
       "      <td>31.345765</td>\n",
       "    </tr>\n",
       "    <tr>\n",
       "      <th>2</th>\n",
       "      <td>26.207414</td>\n",
       "      <td>1</td>\n",
       "      <td>2.969388</td>\n",
       "      <td>471.70</td>\n",
       "      <td>7</td>\n",
       "      <td>2</td>\n",
       "      <td>11.918391</td>\n",
       "      <td>0</td>\n",
       "      <td>2</td>\n",
       "      <td>9.39</td>\n",
       "      <td>...</td>\n",
       "      <td>0.0</td>\n",
       "      <td>3.0</td>\n",
       "      <td>100.0</td>\n",
       "      <td>14.3</td>\n",
       "      <td>1.0</td>\n",
       "      <td>0.0</td>\n",
       "      <td>40.375424</td>\n",
       "      <td>33.094617</td>\n",
       "      <td>21.757671</td>\n",
       "      <td>31.521192</td>\n",
       "    </tr>\n",
       "    <tr>\n",
       "      <th>3</th>\n",
       "      <td>29.240177</td>\n",
       "      <td>0</td>\n",
       "      <td>2.013569</td>\n",
       "      <td>777.55</td>\n",
       "      <td>1</td>\n",
       "      <td>0</td>\n",
       "      <td>11.599103</td>\n",
       "      <td>0</td>\n",
       "      <td>2</td>\n",
       "      <td>26.02</td>\n",
       "      <td>...</td>\n",
       "      <td>0.0</td>\n",
       "      <td>0.0</td>\n",
       "      <td>100.0</td>\n",
       "      <td>20.0</td>\n",
       "      <td>0.0</td>\n",
       "      <td>0.0</td>\n",
       "      <td>72.020827</td>\n",
       "      <td>40.827752</td>\n",
       "      <td>33.737307</td>\n",
       "      <td>43.465468</td>\n",
       "    </tr>\n",
       "    <tr>\n",
       "      <th>4</th>\n",
       "      <td>31.037762</td>\n",
       "      <td>1</td>\n",
       "      <td>2.555676</td>\n",
       "      <td>678.49</td>\n",
       "      <td>1</td>\n",
       "      <td>0</td>\n",
       "      <td>11.082143</td>\n",
       "      <td>1</td>\n",
       "      <td>2</td>\n",
       "      <td>21.77</td>\n",
       "      <td>...</td>\n",
       "      <td>0.0</td>\n",
       "      <td>4.0</td>\n",
       "      <td>100.0</td>\n",
       "      <td>25.0</td>\n",
       "      <td>0.0</td>\n",
       "      <td>0.0</td>\n",
       "      <td>64.768407</td>\n",
       "      <td>34.896839</td>\n",
       "      <td>32.396118</td>\n",
       "      <td>24.972770</td>\n",
       "    </tr>\n",
       "  </tbody>\n",
       "</table>\n",
       "<p>5 rows × 55 columns</p>\n",
       "</div>"
      ],
      "text/plain": [
       "   loan_amnt  term  int_rate  installment  emp_length  home_ownership  \\\n",
       "0  27.144176     1  2.377693       432.66           1               0   \n",
       "1  21.544347     0  1.870263       306.45           6               2   \n",
       "2  26.207414     1  2.969388       471.70           7               2   \n",
       "3  29.240177     0  2.013569       777.55           1               0   \n",
       "4  31.037762     1  2.555676       678.49           1               0   \n",
       "\n",
       "   annual_inc  verification_status  purpose    dti  ...  num_tl_90g_dpd_24m  \\\n",
       "0   11.050890                    0        4  10.78  ...                 0.0   \n",
       "1   11.350407                    0        1  13.07  ...                 0.0   \n",
       "2   11.918391                    0        2   9.39  ...                 0.0   \n",
       "3   11.599103                    0        2  26.02  ...                 0.0   \n",
       "4   11.082143                    1        2  21.77  ...                 0.0   \n",
       "\n",
       "   num_tl_op_past_12m  pct_tl_nvr_dlq  percent_bc_gt_75  pub_rec_bankruptcies  \\\n",
       "0                 0.0           100.0              50.0                   0.0   \n",
       "1                 2.0            95.7              28.6                   1.0   \n",
       "2                 3.0           100.0              14.3                   1.0   \n",
       "3                 0.0           100.0              20.0                   0.0   \n",
       "4                 4.0           100.0              25.0                   0.0   \n",
       "\n",
       "   tax_liens  tot_hi_cred_lim  total_bal_ex_mort  total_bc_limit  \\\n",
       "0        0.0        60.223059          26.540936       18.370906   \n",
       "1        0.0        39.386256          30.350337       25.406682   \n",
       "2        0.0        40.375424          33.094617       21.757671   \n",
       "3        0.0        72.020827          40.827752       33.737307   \n",
       "4        0.0        64.768407          34.896839       32.396118   \n",
       "\n",
       "   total_il_high_credit_limit  \n",
       "0                   24.594526  \n",
       "1                   31.345765  \n",
       "2                   31.521192  \n",
       "3                   43.465468  \n",
       "4                   24.972770  \n",
       "\n",
       "[5 rows x 55 columns]"
      ]
     },
     "execution_count": 4,
     "metadata": {},
     "output_type": "execute_result"
    }
   ],
   "source": [
    "X.head()"
   ]
  },
  {
   "cell_type": "code",
   "execution_count": 5,
   "metadata": {},
   "outputs": [
    {
     "data": {
      "image/png": "[encoded data removed]",
      "text/plain": [
       "<Figure size 1080x1080 with 2 Axes>"
      ]
     },
     "metadata": {
      "needs_background": "light"
     },
     "output_type": "display_data"
    }
   ],
   "source": [
    "# Correlation between features\n",
    "corr=X._get_numeric_data().corr()\n",
    "# Generate a mask for the upper triangle\n",
    "mask = np.zeros_like(corr, dtype=np.bool)\n",
    "mask[np.triu_indices_from(mask)] = True\n",
    "\n",
    "# Set up the matplotlib figure\n",
    "f, ax = plt.subplots(figsize=(15, 15))\n",
    "\n",
    "# Generate a custom diverging colormap\n",
    "cmap = sns.diverging_palette(220, 10, as_cmap=True)\n",
    "\n",
    "# Draw the heatmap with the mask and correct aspect ratio\n",
    "sns.heatmap(corr, mask=mask, cmap=cmap, vmin=-1, vmax=1, center=0,\n",
    "            square=True, linewidths=.1, cbar_kws={\"shrink\": .5},xticklabels=True, yticklabels=True)\n",
    "plt.tight_layout()\n",
    "plt.savefig('./resources/figure.png', dpi=600)"
   ]
  },
  {
   "cell_type": "markdown",
   "metadata": {},
   "source": [
    "Given an imbalanced dataset, such as the Lending Club dataset where the rate of positive examples is about 85%, accuracy does not indicate the true performance of the model. The accuracy will depend on the overall default rate of the test data set. For example, in this case, a model that predicts any example to be non-defaulting would still achieve 85% accuracy. Furthermore, some models will bias toward classifications that occur more often, such as SVM and Logistic Regression. Instead, we will look at sensitivity."
   ]
  },
  {
   "cell_type": "code",
   "execution_count": 6,
   "metadata": {},
   "outputs": [],
   "source": [
    "# Importing scikit modules\n",
    "from sklearn.metrics import accuracy_score\n",
    "from sklearn.metrics import precision_score\n",
    "from sklearn.metrics import recall_score\n",
    "from sklearn.metrics import f1_score\n",
    "from sklearn.metrics import cohen_kappa_score\n",
    "from sklearn.metrics import roc_auc_score\n",
    "from sklearn.metrics import confusion_matrix\n",
    "from sklearn.utils.multiclass import unique_labels\n",
    "from sklearn.metrics import classification_report\n",
    "\n",
    "# Model evaluation modules\n",
    "from sklearn.model_selection import train_test_split\n",
    "from sklearn.preprocessing import LabelEncoder, MinMaxScaler\n",
    "from tensorflow.keras.utils import to_categorical"
   ]
  },
  {
   "cell_type": "code",
   "execution_count": 7,
   "metadata": {},
   "outputs": [],
   "source": [
    "# Splitting the data into train and test\n",
    "X_train, X_test, y_train, y_test = train_test_split(X, y, random_state=42, stratify=y)"
   ]
  },
  {
   "cell_type": "code",
   "execution_count": 8,
   "metadata": {},
   "outputs": [],
   "source": [
    "# Scaling features\n",
    "X_scaler = MinMaxScaler().fit(X_train)\n",
    "X_train_scaled = X_scaler.transform(X_train)\n",
    "X_test_scaled = X_scaler.transform(X_test)"
   ]
  },
  {
   "cell_type": "code",
   "execution_count": 9,
   "metadata": {},
   "outputs": [],
   "source": [
    "# Step 1: Label-encode data set\n",
    "label_encoder = LabelEncoder()\n",
    "\n",
    "label_encoder.fit(y_train)\n",
    "encoded_y_train = label_encoder.transform(y_train)\n",
    "encoded_y_test = label_encoder.transform(y_test)"
   ]
  },
  {
   "cell_type": "code",
   "execution_count": 10,
   "metadata": {},
   "outputs": [
    {
     "data": {
      "text/plain": [
       "(354511,)"
      ]
     },
     "execution_count": 10,
     "metadata": {},
     "output_type": "execute_result"
    }
   ],
   "source": [
    "encoded_y_train\n",
    "encoded_y_train.shape"
   ]
  },
  {
   "cell_type": "markdown",
   "metadata": {},
   "source": [
    "## Logistic Regression"
   ]
  },
  {
   "cell_type": "code",
   "execution_count": 11,
   "metadata": {},
   "outputs": [
    {
     "data": {
      "text/plain": [
       "LogisticRegression(C=1.0, class_weight=None, dual=False, fit_intercept=True,\n",
       "                   intercept_scaling=1, l1_ratio=None, max_iter=100,\n",
       "                   multi_class='multinomial', n_jobs=None, penalty='l2',\n",
       "                   random_state=None, solver='saga', tol=0.0001, verbose=0,\n",
       "                   warm_start=False)"
      ]
     },
     "execution_count": 11,
     "metadata": {},
     "output_type": "execute_result"
    }
   ],
   "source": [
    "# Creating a logistic regression model\n",
    "from sklearn.linear_model import LogisticRegression\n",
    "logreg = LogisticRegression(multi_class='multinomial', solver ='saga')\n",
    "logreg"
   ]
  },
  {
   "cell_type": "code",
   "execution_count": 12,
   "metadata": {},
   "outputs": [
    {
     "data": {
      "text/plain": [
       "LogisticRegression(C=1.0, class_weight=None, dual=False, fit_intercept=True,\n",
       "                   intercept_scaling=1, l1_ratio=None, max_iter=100,\n",
       "                   multi_class='multinomial', n_jobs=None, penalty='l2',\n",
       "                   random_state=None, solver='saga', tol=0.0001, verbose=0,\n",
       "                   warm_start=False)"
      ]
     },
     "execution_count": 12,
     "metadata": {},
     "output_type": "execute_result"
    }
   ],
   "source": [
    "logreg.fit(X_train_scaled, y_train)"
   ]
  },
  {
   "cell_type": "code",
   "execution_count": 13,
   "metadata": {},
   "outputs": [
    {
     "name": "stdout",
     "output_type": "stream",
     "text": [
      "Training Data Score: 0.9126204828623089\n",
      "Testing Data Score: 0.9136082456778736\n"
     ]
    }
   ],
   "source": [
    "print(f\"Training Data Score: {logreg.score(X_train_scaled, y_train)}\")\n",
    "print(f\"Testing Data Score: {logreg.score(X_test_scaled, y_test)}\")"
   ]
  },
  {
   "cell_type": "code",
   "execution_count": 14,
   "metadata": {},
   "outputs": [
    {
     "data": {
      "text/html": [
       "<div>\n",
       "<style scoped>\n",
       "    .dataframe tbody tr th:only-of-type {\n",
       "        vertical-align: middle;\n",
       "    }\n",
       "\n",
       "    .dataframe tbody tr th {\n",
       "        vertical-align: top;\n",
       "    }\n",
       "\n",
       "    .dataframe thead th {\n",
       "        text-align: right;\n",
       "    }\n",
       "</style>\n",
       "<table border=\"1\" class=\"dataframe\">\n",
       "  <thead>\n",
       "    <tr style=\"text-align: right;\">\n",
       "      <th></th>\n",
       "      <th>Prediction</th>\n",
       "      <th>Actual</th>\n",
       "    </tr>\n",
       "  </thead>\n",
       "  <tbody>\n",
       "    <tr>\n",
       "      <th>86766</th>\n",
       "      <td>paid</td>\n",
       "      <td>paid</td>\n",
       "    </tr>\n",
       "    <tr>\n",
       "      <th>82602</th>\n",
       "      <td>paid</td>\n",
       "      <td>paid</td>\n",
       "    </tr>\n",
       "    <tr>\n",
       "      <th>395711</th>\n",
       "      <td>paid</td>\n",
       "      <td>paid</td>\n",
       "    </tr>\n",
       "    <tr>\n",
       "      <th>196538</th>\n",
       "      <td>paid</td>\n",
       "      <td>paid</td>\n",
       "    </tr>\n",
       "    <tr>\n",
       "      <th>206475</th>\n",
       "      <td>paid</td>\n",
       "      <td>paid</td>\n",
       "    </tr>\n",
       "  </tbody>\n",
       "</table>\n",
       "</div>"
      ],
      "text/plain": [
       "       Prediction Actual\n",
       "86766        paid   paid\n",
       "82602        paid   paid\n",
       "395711       paid   paid\n",
       "196538       paid   paid\n",
       "206475       paid   paid"
      ]
     },
     "execution_count": 14,
     "metadata": {},
     "output_type": "execute_result"
    }
   ],
   "source": [
    "predictions = logreg.predict(X_test_scaled)\n",
    "predictions_LR = pd.DataFrame({\"Prediction\": predictions, \"Actual\": y_test})\n",
    "predictions_LR.head()"
   ]
  },
  {
   "cell_type": "code",
   "execution_count": 15,
   "metadata": {},
   "outputs": [
    {
     "data": {
      "text/plain": [
       "array([ 5.70097200e-01, -3.59062209e-01, -5.96032725e-01, -6.59692935e-01,\n",
       "       -7.65574395e-03, -1.18747375e-01,  8.51885222e-02, -1.43056495e-02,\n",
       "       -1.93143421e-01, -4.71271026e-01, -7.15477791e-01,  2.64709575e-01,\n",
       "       -7.90275569e-02,  2.49436020e-01, -5.11795341e-01,  1.58993700e-01,\n",
       "       -1.10598178e-02,  3.43285875e-02, -8.22400799e+01, -8.21262647e-01,\n",
       "       -1.00903995e-01, -3.93199605e-02,  4.35684847e-01, -8.13540217e-01,\n",
       "        2.44753092e-02, -1.70293722e-01, -2.98066414e-02, -1.25616982e-01,\n",
       "       -2.24078663e-01,  1.84211211e-02, -1.88019617e-01,  3.80800042e-01,\n",
       "        3.69870497e-01,  5.06922214e-01, -1.04800265e-01, -5.04731902e-03,\n",
       "       -6.95192248e-01, -4.10093791e-01,  2.01929682e-01,  1.58745050e-01,\n",
       "        2.62041760e-01,  2.24165415e-01,  2.16605155e-02, -4.00939320e-01,\n",
       "        3.32336639e-01,  2.06632704e-01, -2.77353841e-02, -5.46379971e-02,\n",
       "       -4.51165569e-02, -3.33311428e-01, -4.69680888e-01,  2.61408485e-01,\n",
       "       -1.93213793e-01,  1.69375682e-01,  3.72239336e-01])"
      ]
     },
     "execution_count": 15,
     "metadata": {},
     "output_type": "execute_result"
    }
   ],
   "source": [
    "coefficients = logreg.coef_\n",
    "coefficients_array = coefficients[0]\n",
    "coefficients_array"
   ]
  },
  {
   "cell_type": "code",
   "execution_count": 16,
   "metadata": {},
   "outputs": [],
   "source": [
    "# from sklearn.feature_selection import RFE\n",
    "# predictors = X_train\n",
    "# selector = RFE(logreg, n_features_to_select=10)\n",
    "# selector = selector.fit(predictors, y_train)"
   ]
  },
  {
   "cell_type": "code",
   "execution_count": 17,
   "metadata": {},
   "outputs": [],
   "source": [
    "# import eli5\n",
    "# from eli5.sklearn import PermutationImportance\n",
    "# perm = PermutationImportance(classifier, random_state=1).fit(X_train_scaled,y_train)\n",
    "# eli5.show_weights(perm, feature_names = X.columns.tolist())"
   ]
  },
  {
   "cell_type": "code",
   "execution_count": 18,
   "metadata": {
    "scrolled": true
   },
   "outputs": [
    {
     "name": "stdout",
     "output_type": "stream",
     "text": [
      "0.8418296797924882\n",
      "0.9136082456778736\n",
      "0.9044247080859502\n",
      "[0.7352781  0.94838126]\n"
     ]
    }
   ],
   "source": [
    "# F1 score\n",
    "y_true = y_test\n",
    "y_pred = predictions\n",
    "\n",
    "#print(f1_score(y_true, y_pred))\n",
    "print(f1_score(y_true, y_pred, average='macro'))\n",
    "print(f1_score(y_true, y_pred, average='micro'))\n",
    "print(f1_score(y_true, y_pred, average='weighted'))\n",
    "print(f1_score(y_true, y_pred, average=None))"
   ]
  },
  {
   "cell_type": "code",
   "execution_count": null,
   "metadata": {},
   "outputs": [],
   "source": [
    "# Generating report\n",
    "target_names = final_model_data.loan_status\n",
    "print(classification_report(y_true, y_pred, target_names=target_names))"
   ]
  },
  {
   "cell_type": "code",
   "execution_count": 19,
   "metadata": {},
   "outputs": [
    {
     "data": {
      "text/plain": [
       "array([[14178, 10197],\n",
       "       [   12, 93784]])"
      ]
     },
     "execution_count": 19,
     "metadata": {},
     "output_type": "execute_result"
    }
   ],
   "source": [
    "# Confusion Matric\n",
    "confusion_matrix(y_true, y_pred)"
   ]
  },
  {
   "cell_type": "code",
   "execution_count": 20,
   "metadata": {},
   "outputs": [],
   "source": [
    "scoring = ['accuracy', 'precision']"
   ]
  },
  {
   "cell_type": "code",
   "execution_count": 21,
   "metadata": {},
   "outputs": [
    {
     "name": "stdout",
     "output_type": "stream",
     "text": [
      "Confusion matrix, without normalization\n",
      "[[14178 10197]\n",
      " [   12 93784]]\n",
      "Normalized confusion matrix\n",
      "[[5.817e-01 4.183e-01]\n",
      " [1.279e-04 9.999e-01]]\n"
     ]
    },
    {
     "data": {
      "image/png": "[encoded data removed]",
      "text/plain": [
       "<Figure size 432x288 with 2 Axes>"
      ]
     },
     "metadata": {
      "needs_background": "light"
     },
     "output_type": "display_data"
    },
    {
     "data": {
      "image/png": "[encoded data removed]",
      "text/plain": [
       "<Figure size 432x288 with 2 Axes>"
      ]
     },
     "metadata": {
      "needs_background": "light"
     },
     "output_type": "display_data"
    }
   ],
   "source": [
    "class_names = final_model_data.loan_status\n",
    "\n",
    "def plot_confusion_matrix(y_true, y_pred, classes,\n",
    "                          normalize=False,\n",
    "                          title=None,\n",
    "                          cmap=plt.cm.Blues):\n",
    "    \"\"\"\n",
    "    This function prints and plots the confusion matrix.\n",
    "    Normalization can be applied by setting `normalize=True`.\n",
    "    \"\"\"\n",
    "    if not title:\n",
    "        if normalize:\n",
    "            title = 'Normalized confusion matrix'\n",
    "        else:\n",
    "            title = 'Confusion matrix, without normalization'\n",
    "\n",
    "    # Compute confusion matrix\n",
    "    cm = confusion_matrix(y_true, y_pred)\n",
    "    # Only use the labels that appear in the data\n",
    "    classes = class_names.unique()\n",
    "    if normalize:\n",
    "        cm = cm.astype('float') / cm.sum(axis=1)[:, np.newaxis]\n",
    "        print(\"Normalized confusion matrix\")\n",
    "    else:\n",
    "        print('Confusion matrix, without normalization')\n",
    "\n",
    "    print(cm)\n",
    "\n",
    "    fig, ax = plt.subplots()\n",
    "    im = ax.imshow(cm, interpolation='nearest', cmap=cmap)\n",
    "    ax.figure.colorbar(im, ax=ax)\n",
    "    # We want to show all ticks...\n",
    "    ax.set(xticks=np.arange(cm.shape[1]),\n",
    "           yticks=np.arange(cm.shape[0]),\n",
    "           # ... and label them with the respective list entries\n",
    "           xticklabels=classes, yticklabels=classes,\n",
    "           title=title,\n",
    "           ylabel='True label',\n",
    "           xlabel='Predicted label')\n",
    "\n",
    "    # Rotate the tick labels and set their alignment.\n",
    "    plt.setp(ax.get_xticklabels(), rotation=90, ha=\"right\",\n",
    "             rotation_mode=\"anchor\")\n",
    "\n",
    "    # Loop over data dimensions and create text annotations.\n",
    "    fmt = '.2f' if normalize else 'd'\n",
    "    thresh = cm.max() / 2.\n",
    "    for i in range(cm.shape[0]):\n",
    "        for j in range(cm.shape[1]):\n",
    "            ax.text(j, i, format(cm[i, j], fmt),\n",
    "                    ha=\"center\", va=\"center\",\n",
    "                    color=\"white\" if cm[i, j] > thresh else \"black\")\n",
    "    fig.tight_layout()\n",
    "    return ax\n",
    "\n",
    "\n",
    "np.set_printoptions(precision=3)\n",
    "\n",
    "# Plot non-normalized confusion matrix\n",
    "plot_confusion_matrix(y_test, y_pred, classes=class_names,\n",
    "                      title='LogReg Confusion matrix, without normalization')\n",
    "plt.savefig('resources/plots/LogReg_no_norm_confusion_matrix.png', dpi=600)\n",
    "# Plot normalized confusion matrix\n",
    "plot_confusion_matrix(y_test, y_pred, classes=class_names, normalize=True,\n",
    "                      title='LogReg Normalized confusion matrix')\n",
    "\n",
    "plt.savefig('resources/plots/LogReg_normalized_confusion_matrix.png', dpi=600)\n",
    "plt.show()"
   ]
  },
  {
   "cell_type": "code",
   "execution_count": 22,
   "metadata": {},
   "outputs": [
    {
     "name": "stdout",
     "output_type": "stream",
     "text": [
      "True Negatives:  14178\n",
      "False Positives:  10197\n",
      "False Negatives:  12\n",
      "True Positives:  93784\n"
     ]
    }
   ],
   "source": [
    "#extracting true_positives, false_positives, true_negatives, false_negatives\n",
    "tn, fp, fn, tp = confusion_matrix(y_test, y_pred).ravel()\n",
    "print(\"True Negatives: \", tn)\n",
    "print(\"False Positives: \", fp)\n",
    "print(\"False Negatives: \", fn)\n",
    "print(\"True Positives: \", tp)"
   ]
  },
  {
   "cell_type": "code",
   "execution_count": 24,
   "metadata": {},
   "outputs": [
    {
     "name": "stdout",
     "output_type": "stream",
     "text": [
      "Accuracy: 91.36082456778736\n"
     ]
    }
   ],
   "source": [
    "#Accuracy\n",
    "LogReg_Accuracy = (tn+tp)*100/(tp+tn+fp+fn) \n",
    "print(f\"Accuracy: {LogReg_Accuracy}\")"
   ]
  },
  {
   "cell_type": "code",
   "execution_count": 25,
   "metadata": {},
   "outputs": [
    {
     "name": "stdout",
     "output_type": "stream",
     "text": [
      "Precision: 0.9019340071743877\n"
     ]
    }
   ],
   "source": [
    "#Precision \n",
    "LogReg_Precision = tp/(tp+fp) \n",
    "print(f\"Precision: {LogReg_Precision}\")"
   ]
  },
  {
   "cell_type": "code",
   "execution_count": 27,
   "metadata": {},
   "outputs": [
    {
     "name": "stdout",
     "output_type": "stream",
     "text": [
      "Recall: 0.999872062774532\n"
     ]
    }
   ],
   "source": [
    "#Recall \n",
    "LogReg_Recall = tp/(tp+fn) \n",
    "print(f\"Recall: {LogReg_Recall}\")"
   ]
  },
  {
   "cell_type": "code",
   "execution_count": 29,
   "metadata": {},
   "outputs": [
    {
     "name": "stdout",
     "output_type": "stream",
     "text": [
      "F1 Score: 0.9483812576791033\n"
     ]
    }
   ],
   "source": [
    "#F1 Score\n",
    "LogReg_f1 = (2*LogReg_Precision*LogReg_Recall)/(LogReg_Precision + LogReg_Recall)\n",
    "print(f\"F1 Score: {LogReg_f1}\")"
   ]
  },
  {
   "cell_type": "code",
   "execution_count": 30,
   "metadata": {},
   "outputs": [
    {
     "name": "stdout",
     "output_type": "stream",
     "text": [
      "F2 0.978619056066282\n",
      "\n",
      "F0.5 0.9199560543043239\n"
     ]
    }
   ],
   "source": [
    "#F-beta score calculation\n",
    "def fbeta(LogReg_Precision, LogReg_Recall, beta):\n",
    "    return ((1+pow(beta,2))*LogReg_Precision*LogReg_Recall)/(pow(beta,2)*LogReg_Precision + LogReg_Recall)\n",
    "            \n",
    "LogReg_f2 = fbeta(LogReg_Precision, LogReg_Recall, 2)\n",
    "LogReg_f0_5 = fbeta(LogReg_Precision, LogReg_Recall, 0.5)\n",
    "\n",
    "print(f\"F2 {LogReg_f2}\")\n",
    "print(f\"\\nF0.5 {LogReg_f0_5}\")"
   ]
  },
  {
   "cell_type": "code",
   "execution_count": 31,
   "metadata": {},
   "outputs": [
    {
     "name": "stdout",
     "output_type": "stream",
     "text": [
      "Specificity 0.5816615384615385\n"
     ]
    }
   ],
   "source": [
    "#Specificity \n",
    "LogReg_Specificity = tn/(tn+fp)\n",
    "print(f\"Specificity {LogReg_Specificity}\")"
   ]
  },
  {
   "cell_type": "code",
   "execution_count": 32,
   "metadata": {},
   "outputs": [
    {
     "name": "stderr",
     "output_type": "stream",
     "text": [
      "/Users/rogerlefort/anaconda3/envs/loanDefault/lib/python3.7/site-packages/sklearn/utils/deprecation.py:85: DeprecationWarning: Function plot_roc_curve is deprecated; This will be removed in v0.5.0. Please use scikitplot.metrics.plot_roc instead.\n",
      "  warnings.warn(msg, category=DeprecationWarning)\n"
     ]
    },
    {
     "data": {
      "image/png": "[encoded data removed]",
      "text/plain": [
       "<Figure size 432x288 with 1 Axes>"
      ]
     },
     "metadata": {
      "needs_background": "light"
     },
     "output_type": "display_data"
    }
   ],
   "source": [
    "#ROC\n",
    "import scikitplot as skplt #to make things easy\n",
    "y_pred_proba = logreg.predict_proba(X_test)\n",
    "skplt.metrics.plot_roc_curve(y_test, y_pred_proba)\n",
    "\n",
    "plt.savefig('resources/plots/LogReg_roc.png', dpi=600)\n",
    "plt.show()"
   ]
  },
  {
   "cell_type": "markdown",
   "metadata": {},
   "source": [
    "## Decision Tree"
   ]
  },
  {
   "cell_type": "code",
   "execution_count": 33,
   "metadata": {},
   "outputs": [],
   "source": [
    "from sklearn import tree\n",
    "\n",
    "clf = tree.DecisionTreeClassifier()\n",
    "clf = clf.fit(X_train_scaled, y_train)"
   ]
  },
  {
   "cell_type": "code",
   "execution_count": 34,
   "metadata": {},
   "outputs": [
    {
     "name": "stdout",
     "output_type": "stream",
     "text": [
      "Training Data Score: 1.0\n",
      "Testing Data Score: 0.8770172038825093\n"
     ]
    }
   ],
   "source": [
    "print(f\"Training Data Score: {clf.score(X_train_scaled, y_train)}\")\n",
    "print(f\"Testing Data Score: {clf.score(X_test_scaled, y_test)}\")"
   ]
  },
  {
   "cell_type": "code",
   "execution_count": 35,
   "metadata": {},
   "outputs": [
    {
     "data": {
      "text/html": [
       "<div>\n",
       "<style scoped>\n",
       "    .dataframe tbody tr th:only-of-type {\n",
       "        vertical-align: middle;\n",
       "    }\n",
       "\n",
       "    .dataframe tbody tr th {\n",
       "        vertical-align: top;\n",
       "    }\n",
       "\n",
       "    .dataframe thead th {\n",
       "        text-align: right;\n",
       "    }\n",
       "</style>\n",
       "<table border=\"1\" class=\"dataframe\">\n",
       "  <thead>\n",
       "    <tr style=\"text-align: right;\">\n",
       "      <th></th>\n",
       "      <th>Prediction</th>\n",
       "      <th>Actual</th>\n",
       "    </tr>\n",
       "  </thead>\n",
       "  <tbody>\n",
       "    <tr>\n",
       "      <th>86766</th>\n",
       "      <td>paid</td>\n",
       "      <td>paid</td>\n",
       "    </tr>\n",
       "    <tr>\n",
       "      <th>82602</th>\n",
       "      <td>paid</td>\n",
       "      <td>paid</td>\n",
       "    </tr>\n",
       "    <tr>\n",
       "      <th>395711</th>\n",
       "      <td>paid</td>\n",
       "      <td>paid</td>\n",
       "    </tr>\n",
       "    <tr>\n",
       "      <th>196538</th>\n",
       "      <td>paid</td>\n",
       "      <td>paid</td>\n",
       "    </tr>\n",
       "    <tr>\n",
       "      <th>206475</th>\n",
       "      <td>paid</td>\n",
       "      <td>paid</td>\n",
       "    </tr>\n",
       "  </tbody>\n",
       "</table>\n",
       "</div>"
      ],
      "text/plain": [
       "       Prediction Actual\n",
       "86766        paid   paid\n",
       "82602        paid   paid\n",
       "395711       paid   paid\n",
       "196538       paid   paid\n",
       "206475       paid   paid"
      ]
     },
     "execution_count": 35,
     "metadata": {},
     "output_type": "execute_result"
    }
   ],
   "source": [
    "predictions = clf.predict(X_test_scaled)\n",
    "predictions_CLF = pd.DataFrame({\"Prediction\": predictions, \"Actual\": y_test})\n",
    "predictions_CLF.head()"
   ]
  },
  {
   "cell_type": "code",
   "execution_count": 36,
   "metadata": {},
   "outputs": [
    {
     "name": "stdout",
     "output_type": "stream",
     "text": [
      "0.8163638171101288\n",
      "0.8770172038825093\n",
      "0.8783630921215464\n",
      "[0.711 0.922]\n"
     ]
    }
   ],
   "source": [
    "# F1 score\n",
    "y_true = y_test\n",
    "y_pred = predictions\n",
    "\n",
    "#print(f1_score(y_true, y_pred))\n",
    "print(f1_score(y_true, y_pred, average='macro'))\n",
    "print(f1_score(y_true, y_pred, average='micro'))\n",
    "print(f1_score(y_true, y_pred, average='weighted'))\n",
    "print(f1_score(y_true, y_pred, average=None))"
   ]
  },
  {
   "cell_type": "code",
   "execution_count": 37,
   "metadata": {},
   "outputs": [
    {
     "data": {
      "text/plain": [
       "array([[17862,  6513],\n",
       "       [ 8020, 85776]])"
      ]
     },
     "execution_count": 37,
     "metadata": {},
     "output_type": "execute_result"
    }
   ],
   "source": [
    "# Confusion Matric\n",
    "confusion_matrix(y_true, y_pred)"
   ]
  },
  {
   "cell_type": "code",
   "execution_count": 54,
   "metadata": {},
   "outputs": [
    {
     "name": "stdout",
     "output_type": "stream",
     "text": [
      "Confusion matrix, without normalization\n",
      "[[ 4009 20366]\n",
      " [ 6016 87780]]\n",
      "Normalized confusion matrix\n",
      "[[0.164 0.836]\n",
      " [0.064 0.936]]\n"
     ]
    },
    {
     "data": {
      "image/png": "[encoded data removed]",
      "text/plain": [
       "<Figure size 432x288 with 2 Axes>"
      ]
     },
     "metadata": {
      "needs_background": "light"
     },
     "output_type": "display_data"
    },
    {
     "data": {
      "image/png": "[encoded data removed]",
      "text/plain": [
       "<Figure size 432x288 with 2 Axes>"
      ]
     },
     "metadata": {
      "needs_background": "light"
     },
     "output_type": "display_data"
    }
   ],
   "source": [
    "class_names = final_model_data.loan_status\n",
    "\n",
    "def plot_confusion_matrix(y_true, y_pred, classes,\n",
    "                          normalize=False,\n",
    "                          title=None,\n",
    "                          cmap=plt.cm.Blues):\n",
    "    \"\"\"\n",
    "    This function prints and plots the confusion matrix.\n",
    "    Normalization can be applied by setting `normalize=True`.\n",
    "    \"\"\"\n",
    "    if not title:\n",
    "        if normalize:\n",
    "            title = 'Normalized confusion matrix'\n",
    "        else:\n",
    "            title = 'Confusion matrix, without normalization'\n",
    "\n",
    "    # Compute confusion matrix\n",
    "    cm = confusion_matrix(y_true, y_pred)\n",
    "    # Only use the labels that appear in the data\n",
    "    classes = class_names.unique()\n",
    "    if normalize:\n",
    "        cm = cm.astype('float') / cm.sum(axis=1)[:, np.newaxis]\n",
    "        print(\"Normalized confusion matrix\")\n",
    "    else:\n",
    "        print('Confusion matrix, without normalization')\n",
    "\n",
    "    print(cm)\n",
    "\n",
    "    fig, ax = plt.subplots()\n",
    "    im = ax.imshow(cm, interpolation='nearest', cmap=cmap)\n",
    "    ax.figure.colorbar(im, ax=ax)\n",
    "    # We want to show all ticks...\n",
    "    ax.set(xticks=np.arange(cm.shape[1]),\n",
    "           yticks=np.arange(cm.shape[0]),\n",
    "           # ... and label them with the respective list entries\n",
    "           xticklabels=classes, yticklabels=classes,\n",
    "           title=title,\n",
    "           ylabel='True label',\n",
    "           xlabel='Predicted label')\n",
    "\n",
    "    # Rotate the tick labels and set their alignment.\n",
    "    plt.setp(ax.get_xticklabels(), rotation=90, ha=\"right\",\n",
    "             rotation_mode=\"anchor\")\n",
    "\n",
    "    # Loop over data dimensions and create text annotations.\n",
    "    fmt = '.2f' if normalize else 'd'\n",
    "    thresh = cm.max() / 2.\n",
    "    for i in range(cm.shape[0]):\n",
    "        for j in range(cm.shape[1]):\n",
    "            ax.text(j, i, format(cm[i, j], fmt),\n",
    "                    ha=\"center\", va=\"center\",\n",
    "                    color=\"white\" if cm[i, j] > thresh else \"black\")\n",
    "    fig.tight_layout()\n",
    "    return ax\n",
    "\n",
    "\n",
    "np.set_printoptions(precision=3)\n",
    "\n",
    "# Plot non-normalized confusion matrix\n",
    "plot_confusion_matrix(y_test, y_pred, classes=class_names,\n",
    "                      title='Decision Tree Confusion matrix, without normalization')\n",
    "plt.savefig('resources/plots/DTree_no_norm_confusion_matrix.png', dpi=600)\n",
    "# Plot normalized confusion matrix\n",
    "plot_confusion_matrix(y_test, y_pred, classes=class_names, normalize=True,\n",
    "                      title='Decision Tree Normalized confusion matrix')\n",
    "plt.savefig('resources/plots/DTree_normalized_confusion_matrix.png', dpi=600)\n",
    "\n",
    "plt.show()"
   ]
  },
  {
   "cell_type": "code",
   "execution_count": 39,
   "metadata": {},
   "outputs": [
    {
     "name": "stdout",
     "output_type": "stream",
     "text": [
      "True Negatives:  17862\n",
      "False Positives:  6513\n",
      "False Negatives:  8020\n",
      "True Positives:  85776\n"
     ]
    }
   ],
   "source": [
    "#extracting true_positives, false_positives, true_negatives, false_negatives\n",
    "tn, fp, fn, tp = confusion_matrix(y_test, y_pred).ravel()\n",
    "print(\"True Negatives: \", tn)\n",
    "print(\"False Positives: \", fp)\n",
    "print(\"False Negatives: \", fn)\n",
    "print(\"True Positives: \", tp)"
   ]
  },
  {
   "cell_type": "code",
   "execution_count": 40,
   "metadata": {},
   "outputs": [
    {
     "name": "stdout",
     "output_type": "stream",
     "text": [
      "Accuracy: 87.70172038825092\n"
     ]
    }
   ],
   "source": [
    "#Accuracy\n",
    "DTree_Accuracy = (tn+tp)*100/(tp+tn+fp+fn) \n",
    "print(f\"Accuracy: {DTree_Accuracy}\")"
   ]
  },
  {
   "cell_type": "code",
   "execution_count": 41,
   "metadata": {},
   "outputs": [
    {
     "name": "stdout",
     "output_type": "stream",
     "text": [
      "Precision: 0.9294282092123655\n"
     ]
    }
   ],
   "source": [
    "#Precision \n",
    "DTree_Precision = tp/(tp+fp) \n",
    "print(f\"Precision: {DTree_Precision}\")"
   ]
  },
  {
   "cell_type": "code",
   "execution_count": 42,
   "metadata": {},
   "outputs": [
    {
     "name": "stdout",
     "output_type": "stream",
     "text": [
      "Recall: 0.9144952876455286\n"
     ]
    }
   ],
   "source": [
    "#Recall \n",
    "DTree_Recall = tp/(tp+fn) \n",
    "print(f\"Recall: {DTree_Recall}\")"
   ]
  },
  {
   "cell_type": "code",
   "execution_count": 45,
   "metadata": {},
   "outputs": [
    {
     "name": "stdout",
     "output_type": "stream",
     "text": [
      "F1 Score: 0.921901281672354\n"
     ]
    }
   ],
   "source": [
    "#F1 Score\n",
    "DTree_f1 = (2*DTree_Precision*DTree_Recall)/(DTree_Precision + DTree_Recall)\n",
    "print(f\"F1 Score: {DTree_f1}\")"
   ]
  },
  {
   "cell_type": "code",
   "execution_count": 47,
   "metadata": {},
   "outputs": [
    {
     "name": "stdout",
     "output_type": "stream",
     "text": [
      "F2 0.9174433603651976\n",
      "\n",
      "F0.5 0.9264027372168174\n"
     ]
    }
   ],
   "source": [
    "#F-beta score calculation\n",
    "def fbeta(DTree_Precision, DTree_Recall, beta):\n",
    "    return ((1+pow(beta,2))*DTree_Precision*DTree_Recall)/(pow(beta,2)*DTree_Precision + DTree_Recall)\n",
    "            \n",
    "DTree_f2 = fbeta(DTree_Precision, DTree_Recall, 2)\n",
    "DTree_f0_5 = fbeta(DTree_Precision, DTree_Recall, 0.5)\n",
    "\n",
    "print(f\"F2 {DTree_f2}\")\n",
    "print(f\"\\nF0.5 {DTree_f0_5}\")"
   ]
  },
  {
   "cell_type": "code",
   "execution_count": 48,
   "metadata": {},
   "outputs": [
    {
     "name": "stdout",
     "output_type": "stream",
     "text": [
      "Specificity 0.7328\n"
     ]
    }
   ],
   "source": [
    "#Specificity \n",
    "DTree_Specificity = tn/(tn+fp)\n",
    "print(f\"Specificity {DTree_Specificity}\")"
   ]
  },
  {
   "cell_type": "code",
   "execution_count": 49,
   "metadata": {},
   "outputs": [
    {
     "name": "stderr",
     "output_type": "stream",
     "text": [
      "/Users/rogerlefort/anaconda3/envs/loanDefault/lib/python3.7/site-packages/sklearn/utils/deprecation.py:85: DeprecationWarning: Function plot_roc_curve is deprecated; This will be removed in v0.5.0. Please use scikitplot.metrics.plot_roc instead.\n",
      "  warnings.warn(msg, category=DeprecationWarning)\n"
     ]
    },
    {
     "data": {
      "image/png": "[encoded data removed]",
      "text/plain": [
       "<Figure size 432x288 with 1 Axes>"
      ]
     },
     "metadata": {
      "needs_background": "light"
     },
     "output_type": "display_data"
    }
   ],
   "source": [
    "y_pred_proba = clf.predict_proba(X_test)\n",
    "skplt.metrics.plot_roc_curve(y_test, y_pred_proba)\n",
    "\n",
    "plt.savefig('resources/plots/DTree_roc.png', dpi=600)\n",
    "plt.show()"
   ]
  },
  {
   "cell_type": "markdown",
   "metadata": {},
   "source": [
    "## K Nearest Neighboor"
   ]
  },
  {
   "cell_type": "code",
   "execution_count": 50,
   "metadata": {},
   "outputs": [],
   "source": [
    "from sklearn.neighbors import KNeighborsClassifier\n",
    "neigh = KNeighborsClassifier(n_neighbors=5)\n",
    "neigh = neigh.fit(X_train_scaled, y_train)"
   ]
  },
  {
   "cell_type": "code",
   "execution_count": 51,
   "metadata": {},
   "outputs": [],
   "source": [
    "# print(f\"Training Data Score: {neigh.score(X_train_scaled, y_train)}\")\n",
    "# print(f\"Testing Data Score: {neigh.score(X_test_scaled, y_test)}\")"
   ]
  },
  {
   "cell_type": "code",
   "execution_count": 52,
   "metadata": {},
   "outputs": [
    {
     "data": {
      "text/html": [
       "<div>\n",
       "<style scoped>\n",
       "    .dataframe tbody tr th:only-of-type {\n",
       "        vertical-align: middle;\n",
       "    }\n",
       "\n",
       "    .dataframe tbody tr th {\n",
       "        vertical-align: top;\n",
       "    }\n",
       "\n",
       "    .dataframe thead th {\n",
       "        text-align: right;\n",
       "    }\n",
       "</style>\n",
       "<table border=\"1\" class=\"dataframe\">\n",
       "  <thead>\n",
       "    <tr style=\"text-align: right;\">\n",
       "      <th></th>\n",
       "      <th>Prediction</th>\n",
       "      <th>Actual</th>\n",
       "    </tr>\n",
       "  </thead>\n",
       "  <tbody>\n",
       "    <tr>\n",
       "      <th>86766</th>\n",
       "      <td>paid</td>\n",
       "      <td>paid</td>\n",
       "    </tr>\n",
       "    <tr>\n",
       "      <th>82602</th>\n",
       "      <td>paid</td>\n",
       "      <td>paid</td>\n",
       "    </tr>\n",
       "    <tr>\n",
       "      <th>395711</th>\n",
       "      <td>paid</td>\n",
       "      <td>paid</td>\n",
       "    </tr>\n",
       "    <tr>\n",
       "      <th>196538</th>\n",
       "      <td>paid</td>\n",
       "      <td>paid</td>\n",
       "    </tr>\n",
       "    <tr>\n",
       "      <th>206475</th>\n",
       "      <td>paid</td>\n",
       "      <td>paid</td>\n",
       "    </tr>\n",
       "  </tbody>\n",
       "</table>\n",
       "</div>"
      ],
      "text/plain": [
       "       Prediction Actual\n",
       "86766        paid   paid\n",
       "82602        paid   paid\n",
       "395711       paid   paid\n",
       "196538       paid   paid\n",
       "206475       paid   paid"
      ]
     },
     "execution_count": 52,
     "metadata": {},
     "output_type": "execute_result"
    }
   ],
   "source": [
    "predictions = neigh.predict(X_test_scaled)\n",
    "predictions_KNN = pd.DataFrame({\"Prediction\": predictions, \"Actual\": y_test})\n",
    "predictions_KNN.head()"
   ]
  },
  {
   "cell_type": "code",
   "execution_count": 53,
   "metadata": {},
   "outputs": [
    {
     "name": "stdout",
     "output_type": "stream",
     "text": [
      "0.5512199620176459\n",
      "0.776747256094981\n",
      "0.7381143560459217\n",
      "[0.233 0.869]\n"
     ]
    }
   ],
   "source": [
    "# F1 score\n",
    "y_true = y_test\n",
    "y_pred = predictions\n",
    "\n",
    "#print(f1_score(y_true, y_pred))\n",
    "print(f1_score(y_true, y_pred, average='macro'))\n",
    "print(f1_score(y_true, y_pred, average='micro'))\n",
    "print(f1_score(y_true, y_pred, average='weighted'))\n",
    "print(f1_score(y_true, y_pred, average=None))"
   ]
  },
  {
   "cell_type": "code",
   "execution_count": 55,
   "metadata": {},
   "outputs": [
    {
     "data": {
      "text/plain": [
       "array([[ 4009, 20366],\n",
       "       [ 6016, 87780]])"
      ]
     },
     "execution_count": 55,
     "metadata": {},
     "output_type": "execute_result"
    }
   ],
   "source": [
    "# Confusion Matric\n",
    "confusion_matrix(y_true, y_pred)"
   ]
  },
  {
   "cell_type": "code",
   "execution_count": 56,
   "metadata": {
    "scrolled": false
   },
   "outputs": [
    {
     "name": "stdout",
     "output_type": "stream",
     "text": [
      "Confusion matrix, without normalization\n",
      "[[ 4009 20366]\n",
      " [ 6016 87780]]\n",
      "Normalized confusion matrix\n",
      "[[0.164 0.836]\n",
      " [0.064 0.936]]\n"
     ]
    },
    {
     "data": {
      "image/png": "[encoded data removed]",
      "text/plain": [
       "<Figure size 432x288 with 2 Axes>"
      ]
     },
     "metadata": {
      "needs_background": "light"
     },
     "output_type": "display_data"
    },
    {
     "data": {
      "image/png": "[encoded data removed]",
      "text/plain": [
       "<Figure size 432x288 with 2 Axes>"
      ]
     },
     "metadata": {
      "needs_background": "light"
     },
     "output_type": "display_data"
    }
   ],
   "source": [
    "class_names = final_model_data.loan_status\n",
    "\n",
    "def plot_confusion_matrix(y_true, y_pred, classes,\n",
    "                          normalize=False,\n",
    "                          title=None,\n",
    "                          cmap=plt.cm.Blues):\n",
    "    \"\"\"\n",
    "    This function prints and plots the confusion matrix.\n",
    "    Normalization can be applied by setting `normalize=True`.\n",
    "    \"\"\"\n",
    "    if not title:\n",
    "        if normalize:\n",
    "            title = 'Normalized confusion matrix'\n",
    "        else:\n",
    "            title = 'Confusion matrix, without normalization'\n",
    "\n",
    "    # Compute confusion matrix\n",
    "    cm = confusion_matrix(y_true, y_pred)\n",
    "    # Only use the labels that appear in the data\n",
    "    classes = class_names.unique()\n",
    "    if normalize:\n",
    "        cm = cm.astype('float') / cm.sum(axis=1)[:, np.newaxis]\n",
    "        print(\"Normalized confusion matrix\")\n",
    "    else:\n",
    "        print('Confusion matrix, without normalization')\n",
    "\n",
    "    print(cm)\n",
    "\n",
    "    fig, ax = plt.subplots()\n",
    "    im = ax.imshow(cm, interpolation='nearest', cmap=cmap)\n",
    "    ax.figure.colorbar(im, ax=ax)\n",
    "    # We want to show all ticks...\n",
    "    ax.set(xticks=np.arange(cm.shape[1]),\n",
    "           yticks=np.arange(cm.shape[0]),\n",
    "           # ... and label them with the respective list entries\n",
    "           xticklabels=classes, yticklabels=classes,\n",
    "           title=title,\n",
    "           ylabel='True label',\n",
    "           xlabel='Predicted label')\n",
    "\n",
    "    # Rotate the tick labels and set their alignment.\n",
    "    plt.setp(ax.get_xticklabels(), rotation=90, ha=\"right\",\n",
    "             rotation_mode=\"anchor\")\n",
    "\n",
    "    # Loop over data dimensions and create text annotations.\n",
    "    fmt = '.2f' if normalize else 'd'\n",
    "    thresh = cm.max() / 2.\n",
    "    for i in range(cm.shape[0]):\n",
    "        for j in range(cm.shape[1]):\n",
    "            ax.text(j, i, format(cm[i, j], fmt),\n",
    "                    ha=\"center\", va=\"center\",\n",
    "                    color=\"white\" if cm[i, j] > thresh else \"black\")\n",
    "    fig.tight_layout()\n",
    "    return ax\n",
    "\n",
    "\n",
    "np.set_printoptions(precision=3)\n",
    "\n",
    "# Plot non-normalized confusion matrix\n",
    "plot_confusion_matrix(y_test, y_pred, classes=class_names,\n",
    "                      title='KNN Confusion matrix, without normalization')\n",
    "plt.savefig('resources/KNN_no_norm_confusion_matrix.png', dpi=600)\n",
    "# Plot normalized confusion matrix\n",
    "plot_confusion_matrix(y_test, y_pred, classes=class_names, normalize=True,\n",
    "                      title='KNN Normalized confusion matrix')\n",
    "\n",
    "plt.savefig('resources/plots/KNN_normalized_confusion_matrix.png', dpi=600)\n",
    "plt.show()"
   ]
  },
  {
   "cell_type": "code",
   "execution_count": 57,
   "metadata": {
    "scrolled": true
   },
   "outputs": [
    {
     "name": "stdout",
     "output_type": "stream",
     "text": [
      "True Negatives:  4009\n",
      "False Positives:  20366\n",
      "False Negatives:  6016\n",
      "True Positives:  87780\n"
     ]
    }
   ],
   "source": [
    "#extracting true_positives, false_positives, true_negatives, false_negatives\n",
    "tn, fp, fn, tp = confusion_matrix(y_test, y_pred).ravel()\n",
    "print(\"True Negatives: \", tn)\n",
    "print(\"False Positives: \", fp)\n",
    "print(\"False Negatives: \", fn)\n",
    "print(\"True Positives: \", tp)"
   ]
  },
  {
   "cell_type": "code",
   "execution_count": 58,
   "metadata": {},
   "outputs": [
    {
     "name": "stdout",
     "output_type": "stream",
     "text": [
      "Accuracy: 77.6747256094981\n"
     ]
    }
   ],
   "source": [
    "#Accuracy\n",
    "KNN_Accuracy = (tn+tp)*100/(tp+tn+fp+fn) \n",
    "print(f\"Accuracy: {KNN_Accuracy}\")"
   ]
  },
  {
   "cell_type": "code",
   "execution_count": 59,
   "metadata": {},
   "outputs": [
    {
     "name": "stdout",
     "output_type": "stream",
     "text": [
      "Precision: 0.8116805059826531\n"
     ]
    }
   ],
   "source": [
    "#Precision \n",
    "KNN_Precision = tp/(tp+fp) \n",
    "print(f\"Precision: {KNN_Precision}\")"
   ]
  },
  {
   "cell_type": "code",
   "execution_count": 60,
   "metadata": {},
   "outputs": [
    {
     "name": "stdout",
     "output_type": "stream",
     "text": [
      "Recall: 0.9358608042986908\n"
     ]
    }
   ],
   "source": [
    "#Recall \n",
    "KNN_Recall = tp/(tp+fn) \n",
    "print(f\"Recall: {KNN_Recall}\")"
   ]
  },
  {
   "cell_type": "code",
   "execution_count": 61,
   "metadata": {},
   "outputs": [
    {
     "name": "stdout",
     "output_type": "stream",
     "text": [
      "F1 Score: 0.8693585286864546\n"
     ]
    }
   ],
   "source": [
    "#F1 Score\n",
    "KNN_f1 = (2*KNN_Precision*KNN_Recall)/(KNN_Precision + KNN_Recall)\n",
    "print(f\"F1 Score: {KNN_f1}\")"
   ]
  },
  {
   "cell_type": "code",
   "execution_count": 62,
   "metadata": {},
   "outputs": [
    {
     "name": "stdout",
     "output_type": "stream",
     "text": [
      "F2 0.9080752281050214\n",
      "\n",
      "F0.5 0.8338082753904023\n"
     ]
    }
   ],
   "source": [
    "#F-beta score calculation\n",
    "def fbeta(KNN_Precision, KNN_Recall, beta):\n",
    "    return ((1+pow(beta,2))*KNN_Precision*KNN_Recall)/(pow(beta,2)*KNN_Precision + KNN_Recall)\n",
    "            \n",
    "KNN_f2 = fbeta(KNN_Precision, KNN_Recall, 2)\n",
    "KNN_f0_5 = fbeta(KNN_Precision, KNN_Recall, 0.5)\n",
    "\n",
    "print(f\"F2 {KNN_f2}\")\n",
    "print(f\"\\nF0.5 {KNN_f0_5}\")"
   ]
  },
  {
   "cell_type": "code",
   "execution_count": 63,
   "metadata": {},
   "outputs": [
    {
     "name": "stdout",
     "output_type": "stream",
     "text": [
      "Specificity 0.16447179487179486\n"
     ]
    }
   ],
   "source": [
    "#Specificity \n",
    "KNN_Specificity = tn/(tn+fp)\n",
    "print(f\"Specificity {KNN_Specificity}\")"
   ]
  },
  {
   "cell_type": "code",
   "execution_count": 64,
   "metadata": {},
   "outputs": [
    {
     "name": "stderr",
     "output_type": "stream",
     "text": [
      "/Users/rogerlefort/anaconda3/envs/loanDefault/lib/python3.7/site-packages/sklearn/utils/deprecation.py:85: DeprecationWarning: Function plot_roc_curve is deprecated; This will be removed in v0.5.0. Please use scikitplot.metrics.plot_roc instead.\n",
      "  warnings.warn(msg, category=DeprecationWarning)\n"
     ]
    },
    {
     "data": {
      "image/png": "[encoded data removed]",
      "text/plain": [
       "<Figure size 432x288 with 1 Axes>"
      ]
     },
     "metadata": {
      "needs_background": "light"
     },
     "output_type": "display_data"
    }
   ],
   "source": [
    "y_pred_proba = neigh.predict_proba(X_test_scaled)\n",
    "skplt.metrics.plot_roc_curve(y_test, y_pred_proba)\n",
    "\n",
    "plt.savefig('resources/plots/KNN_roc.png', dpi=600)\n",
    "plt.show()"
   ]
  },
  {
   "cell_type": "markdown",
   "metadata": {},
   "source": [
    "## XGBoost"
   ]
  },
  {
   "cell_type": "code",
   "execution_count": 65,
   "metadata": {},
   "outputs": [
    {
     "data": {
      "text/plain": [
       "XGBClassifier(base_score=0.5, booster='gbtree', colsample_bylevel=1,\n",
       "              colsample_bynode=1, colsample_bytree=1, gamma=0,\n",
       "              learning_rate=0.1, max_delta_step=0, max_depth=3,\n",
       "              min_child_weight=1, missing=None, n_estimators=100, n_jobs=1,\n",
       "              nthread=None, objective='binary:logistic', random_state=0,\n",
       "              reg_alpha=0, reg_lambda=1, scale_pos_weight=1, seed=None,\n",
       "              silent=None, subsample=1, verbosity=1)"
      ]
     },
     "execution_count": 65,
     "metadata": {},
     "output_type": "execute_result"
    }
   ],
   "source": [
    "from xgboost import XGBClassifier\n",
    "from sklearn.metrics import accuracy_score\n",
    "XGBmodel = XGBClassifier()\n",
    "XGBmodel.fit(X_train_scaled, y_train)"
   ]
  },
  {
   "cell_type": "code",
   "execution_count": 66,
   "metadata": {},
   "outputs": [
    {
     "data": {
      "text/html": [
       "<div>\n",
       "<style scoped>\n",
       "    .dataframe tbody tr th:only-of-type {\n",
       "        vertical-align: middle;\n",
       "    }\n",
       "\n",
       "    .dataframe tbody tr th {\n",
       "        vertical-align: top;\n",
       "    }\n",
       "\n",
       "    .dataframe thead th {\n",
       "        text-align: right;\n",
       "    }\n",
       "</style>\n",
       "<table border=\"1\" class=\"dataframe\">\n",
       "  <thead>\n",
       "    <tr style=\"text-align: right;\">\n",
       "      <th></th>\n",
       "      <th>Prediction</th>\n",
       "      <th>Actual</th>\n",
       "    </tr>\n",
       "  </thead>\n",
       "  <tbody>\n",
       "    <tr>\n",
       "      <th>86766</th>\n",
       "      <td>paid</td>\n",
       "      <td>paid</td>\n",
       "    </tr>\n",
       "    <tr>\n",
       "      <th>82602</th>\n",
       "      <td>paid</td>\n",
       "      <td>paid</td>\n",
       "    </tr>\n",
       "    <tr>\n",
       "      <th>395711</th>\n",
       "      <td>paid</td>\n",
       "      <td>paid</td>\n",
       "    </tr>\n",
       "    <tr>\n",
       "      <th>196538</th>\n",
       "      <td>paid</td>\n",
       "      <td>paid</td>\n",
       "    </tr>\n",
       "    <tr>\n",
       "      <th>206475</th>\n",
       "      <td>paid</td>\n",
       "      <td>paid</td>\n",
       "    </tr>\n",
       "  </tbody>\n",
       "</table>\n",
       "</div>"
      ],
      "text/plain": [
       "       Prediction Actual\n",
       "86766        paid   paid\n",
       "82602        paid   paid\n",
       "395711       paid   paid\n",
       "196538       paid   paid\n",
       "206475       paid   paid"
      ]
     },
     "execution_count": 66,
     "metadata": {},
     "output_type": "execute_result"
    }
   ],
   "source": [
    "predictions = XGBmodel.predict(X_test_scaled)\n",
    "predictions_XGB = pd.DataFrame({\"Prediction\": predictions, \"Actual\": y_test})\n",
    "predictions_XGB.head()"
   ]
  },
  {
   "cell_type": "code",
   "execution_count": 67,
   "metadata": {},
   "outputs": [
    {
     "name": "stdout",
     "output_type": "stream",
     "text": [
      "0.8882206219274165\n",
      "0.935703345152364\n",
      "0.9310191278674972\n",
      "[0.815 0.961]\n"
     ]
    }
   ],
   "source": [
    "# F1 score\n",
    "y_true = y_test\n",
    "y_pred = predictions\n",
    "\n",
    "#print(f1_score(y_true, y_pred))\n",
    "print(f1_score(y_true, y_pred, average='macro'))\n",
    "print(f1_score(y_true, y_pred, average='micro'))\n",
    "print(f1_score(y_true, y_pred, average='weighted'))\n",
    "print(f1_score(y_true, y_pred, average=None))"
   ]
  },
  {
   "cell_type": "code",
   "execution_count": 68,
   "metadata": {},
   "outputs": [
    {
     "data": {
      "text/plain": [
       "array([[16777,  7598],\n",
       "       [    0, 93796]])"
      ]
     },
     "execution_count": 68,
     "metadata": {},
     "output_type": "execute_result"
    }
   ],
   "source": [
    "# Confusion Matric\n",
    "confusion_matrix(y_true, y_pred)"
   ]
  },
  {
   "cell_type": "code",
   "execution_count": 69,
   "metadata": {},
   "outputs": [
    {
     "name": "stdout",
     "output_type": "stream",
     "text": [
      "Confusion matrix, without normalization\n",
      "[[16777  7598]\n",
      " [    0 93796]]\n",
      "Normalized confusion matrix\n",
      "[[0.688 0.312]\n",
      " [0.    1.   ]]\n"
     ]
    },
    {
     "data": {
      "image/png": "[encoded data removed]",
      "text/plain": [
       "<Figure size 432x288 with 2 Axes>"
      ]
     },
     "metadata": {
      "needs_background": "light"
     },
     "output_type": "display_data"
    },
    {
     "data": {
      "image/png": "[encoded data removed]",
      "text/plain": [
       "<Figure size 432x288 with 2 Axes>"
      ]
     },
     "metadata": {
      "needs_background": "light"
     },
     "output_type": "display_data"
    }
   ],
   "source": [
    "class_names = final_model_data.loan_status\n",
    "\n",
    "def plot_confusion_matrix(y_true, y_pred, classes,\n",
    "                          normalize=False,\n",
    "                          title=None,\n",
    "                          cmap=plt.cm.Blues):\n",
    "    \"\"\"\n",
    "    This function prints and plots the confusion matrix.\n",
    "    Normalization can be applied by setting `normalize=True`.\n",
    "    \"\"\"\n",
    "    if not title:\n",
    "        if normalize:\n",
    "            title = 'Normalized confusion matrix'\n",
    "        else:\n",
    "            title = 'Confusion matrix, without normalization'\n",
    "\n",
    "    # Compute confusion matrix\n",
    "    cm = confusion_matrix(y_true, y_pred)\n",
    "    # Only use the labels that appear in the data\n",
    "    classes = class_names.unique()\n",
    "    if normalize:\n",
    "        cm = cm.astype('float') / cm.sum(axis=1)[:, np.newaxis]\n",
    "        print(\"Normalized confusion matrix\")\n",
    "    else:\n",
    "        print('Confusion matrix, without normalization')\n",
    "\n",
    "    print(cm)\n",
    "\n",
    "    fig, ax = plt.subplots()\n",
    "    im = ax.imshow(cm, interpolation='nearest', cmap=cmap)\n",
    "    ax.figure.colorbar(im, ax=ax)\n",
    "    # We want to show all ticks...\n",
    "    ax.set(xticks=np.arange(cm.shape[1]),\n",
    "           yticks=np.arange(cm.shape[0]),\n",
    "           # ... and label them with the respective list entries\n",
    "           xticklabels=classes, yticklabels=classes,\n",
    "           title=title,\n",
    "           ylabel='True label',\n",
    "           xlabel='Predicted label')\n",
    "\n",
    "    # Rotate the tick labels and set their alignment.\n",
    "    plt.setp(ax.get_xticklabels(), rotation=90, ha=\"right\",\n",
    "             rotation_mode=\"anchor\")\n",
    "\n",
    "    # Loop over data dimensions and create text annotations.\n",
    "    fmt = '.2f' if normalize else 'd'\n",
    "    thresh = cm.max() / 2.\n",
    "    for i in range(cm.shape[0]):\n",
    "        for j in range(cm.shape[1]):\n",
    "            ax.text(j, i, format(cm[i, j], fmt),\n",
    "                    ha=\"center\", va=\"center\",\n",
    "                    color=\"white\" if cm[i, j] > thresh else \"black\")\n",
    "    fig.tight_layout()\n",
    "    return ax\n",
    "\n",
    "\n",
    "np.set_printoptions(precision=3)\n",
    "\n",
    "# Plot non-normalized confusion matrix\n",
    "plot_confusion_matrix(y_test, y_pred, classes=class_names,\n",
    "                      title='XGB Confusion matrix, without normalization')\n",
    "plt.savefig('resources/XGB_no_norm_confusion_matrix.png', dpi=600)\n",
    "# Plot normalized confusion matrix\n",
    "plot_confusion_matrix(y_test, y_pred, classes=class_names, normalize=True,\n",
    "                      title='XGB Normalized confusion matrix')\n",
    "\n",
    "plt.savefig('resources/plots/XGB_normalized_confusion_matrix.png', dpi=600)\n",
    "plt.show()"
   ]
  },
  {
   "cell_type": "code",
   "execution_count": 70,
   "metadata": {},
   "outputs": [
    {
     "name": "stdout",
     "output_type": "stream",
     "text": [
      "True Negatives:  16777\n",
      "False Positives:  7598\n",
      "False Negatives:  0\n",
      "True Positives:  93796\n"
     ]
    }
   ],
   "source": [
    "#extracting true_positives, false_positives, true_negatives, false_negatives\n",
    "tn, fp, fn, tp = confusion_matrix(y_test, y_pred).ravel()\n",
    "print(\"True Negatives: \", tn)\n",
    "print(\"False Positives: \", fp)\n",
    "print(\"False Negatives: \", fn)\n",
    "print(\"True Positives: \", tp)"
   ]
  },
  {
   "cell_type": "code",
   "execution_count": 71,
   "metadata": {},
   "outputs": [
    {
     "name": "stdout",
     "output_type": "stream",
     "text": [
      "Accuracy: 93.5703345152364\n"
     ]
    }
   ],
   "source": [
    "#Accuracy\n",
    "XGB_Accuracy = (tn+tp)*100/(tp+tn+fp+fn) \n",
    "print(f\"Accuracy: {XGB_Accuracy}\")"
   ]
  },
  {
   "cell_type": "code",
   "execution_count": 72,
   "metadata": {},
   "outputs": [
    {
     "name": "stdout",
     "output_type": "stream",
     "text": [
      "Precision: 0.9250645994832042\n"
     ]
    }
   ],
   "source": [
    "#Precision \n",
    "XGB_Precision = tp/(tp+fp) \n",
    "print(f\"Precision: {XGB_Precision}\")"
   ]
  },
  {
   "cell_type": "code",
   "execution_count": 73,
   "metadata": {},
   "outputs": [
    {
     "name": "stdout",
     "output_type": "stream",
     "text": [
      "Recall: 1.0\n"
     ]
    }
   ],
   "source": [
    "#Recall \n",
    "XGB_Recall = tp/(tp+fn) \n",
    "print(f\"Recall: {XGB_Recall}\")"
   ]
  },
  {
   "cell_type": "code",
   "execution_count": 74,
   "metadata": {},
   "outputs": [
    {
     "name": "stdout",
     "output_type": "stream",
     "text": [
      "F1 Score: 0.9610738255033556\n"
     ]
    }
   ],
   "source": [
    "#F1 Score\n",
    "XGB_f1 = (2*XGB_Precision*XGB_Recall)/(XGB_Precision + XGB_Recall)\n",
    "print(f\"F1 Score: {XGB_f1}\")"
   ]
  },
  {
   "cell_type": "code",
   "execution_count": 75,
   "metadata": {},
   "outputs": [
    {
     "name": "stdout",
     "output_type": "stream",
     "text": [
      "F2 0.9840571742715777\n",
      "\n",
      "F0.5 0.9391395592864638\n"
     ]
    }
   ],
   "source": [
    "#F-beta score calculation\n",
    "def fbeta(XGB_Precision, XGB_Recall, beta):\n",
    "    return ((1+pow(beta,2))*XGB_Precision*XGB_Recall)/(pow(beta,2)*XGB_Precision + XGB_Recall)\n",
    "            \n",
    "XGB_f2 = fbeta(XGB_Precision, XGB_Recall, 2)\n",
    "XGB_f0_5 = fbeta(XGB_Precision, XGB_Recall, 0.5)\n",
    "\n",
    "print(f\"F2 {XGB_f2}\")\n",
    "print(f\"\\nF0.5 {XGB_f0_5}\")"
   ]
  },
  {
   "cell_type": "code",
   "execution_count": 76,
   "metadata": {},
   "outputs": [
    {
     "name": "stdout",
     "output_type": "stream",
     "text": [
      "Specificity 0.6882871794871794\n"
     ]
    }
   ],
   "source": [
    "#Specificity \n",
    "XGB_Specificity = tn/(tn+fp)\n",
    "print(f\"Specificity {XGB_Specificity}\")"
   ]
  },
  {
   "cell_type": "code",
   "execution_count": 77,
   "metadata": {},
   "outputs": [
    {
     "name": "stderr",
     "output_type": "stream",
     "text": [
      "/Users/rogerlefort/anaconda3/envs/loanDefault/lib/python3.7/site-packages/sklearn/utils/deprecation.py:85: DeprecationWarning: Function plot_roc_curve is deprecated; This will be removed in v0.5.0. Please use scikitplot.metrics.plot_roc instead.\n",
      "  warnings.warn(msg, category=DeprecationWarning)\n"
     ]
    },
    {
     "data": {
      "image/png": "[encoded data removed]",
      "text/plain": [
       "<Figure size 432x288 with 1 Axes>"
      ]
     },
     "metadata": {
      "needs_background": "light"
     },
     "output_type": "display_data"
    }
   ],
   "source": [
    "y_pred_proba = XGBmodel.predict_proba(X_test_scaled)\n",
    "skplt.metrics.plot_roc_curve(y_test, y_pred_proba)\n",
    "\n",
    "plt.savefig('resources/plots/XGB_roc.png', dpi=600)\n",
    "plt.show()"
   ]
  },
  {
   "cell_type": "markdown",
   "metadata": {},
   "source": [
    "## Naive Bayes"
   ]
  },
  {
   "cell_type": "code",
   "execution_count": 78,
   "metadata": {},
   "outputs": [
    {
     "data": {
      "text/plain": [
       "GaussianNB(priors=None, var_smoothing=1e-09)"
      ]
     },
     "execution_count": 78,
     "metadata": {},
     "output_type": "execute_result"
    }
   ],
   "source": [
    "from sklearn.naive_bayes import GaussianNB\n",
    "gnb = GaussianNB()\n",
    "gnb.fit(X_train_scaled, y_train)"
   ]
  },
  {
   "cell_type": "code",
   "execution_count": 79,
   "metadata": {},
   "outputs": [
    {
     "data": {
      "text/html": [
       "<div>\n",
       "<style scoped>\n",
       "    .dataframe tbody tr th:only-of-type {\n",
       "        vertical-align: middle;\n",
       "    }\n",
       "\n",
       "    .dataframe tbody tr th {\n",
       "        vertical-align: top;\n",
       "    }\n",
       "\n",
       "    .dataframe thead th {\n",
       "        text-align: right;\n",
       "    }\n",
       "</style>\n",
       "<table border=\"1\" class=\"dataframe\">\n",
       "  <thead>\n",
       "    <tr style=\"text-align: right;\">\n",
       "      <th></th>\n",
       "      <th>Prediction</th>\n",
       "      <th>Actual</th>\n",
       "    </tr>\n",
       "  </thead>\n",
       "  <tbody>\n",
       "    <tr>\n",
       "      <th>86766</th>\n",
       "      <td>paid</td>\n",
       "      <td>paid</td>\n",
       "    </tr>\n",
       "    <tr>\n",
       "      <th>82602</th>\n",
       "      <td>paid</td>\n",
       "      <td>paid</td>\n",
       "    </tr>\n",
       "    <tr>\n",
       "      <th>395711</th>\n",
       "      <td>paid</td>\n",
       "      <td>paid</td>\n",
       "    </tr>\n",
       "    <tr>\n",
       "      <th>196538</th>\n",
       "      <td>paid</td>\n",
       "      <td>paid</td>\n",
       "    </tr>\n",
       "    <tr>\n",
       "      <th>206475</th>\n",
       "      <td>paid</td>\n",
       "      <td>paid</td>\n",
       "    </tr>\n",
       "  </tbody>\n",
       "</table>\n",
       "</div>"
      ],
      "text/plain": [
       "       Prediction Actual\n",
       "86766        paid   paid\n",
       "82602        paid   paid\n",
       "395711       paid   paid\n",
       "196538       paid   paid\n",
       "206475       paid   paid"
      ]
     },
     "execution_count": 79,
     "metadata": {},
     "output_type": "execute_result"
    }
   ],
   "source": [
    "predictions = gnb.predict(X_test_scaled)\n",
    "predictions_gnb = pd.DataFrame({\"Prediction\": predictions, \"Actual\": y_test})\n",
    "predictions_gnb.head()"
   ]
  },
  {
   "cell_type": "code",
   "execution_count": 80,
   "metadata": {},
   "outputs": [
    {
     "name": "stdout",
     "output_type": "stream",
     "text": [
      "0.8719012331513174\n",
      "0.924786961267993\n",
      "0.9202540381610994\n",
      "[0.79  0.954]\n"
     ]
    }
   ],
   "source": [
    "# F1 score\n",
    "y_true = y_test\n",
    "y_pred = predictions\n",
    "\n",
    "#print(f1_score(y_true, y_pred))\n",
    "print(f1_score(y_true, y_pred, average='macro'))\n",
    "print(f1_score(y_true, y_pred, average='micro'))\n",
    "print(f1_score(y_true, y_pred, average='weighted'))\n",
    "print(f1_score(y_true, y_pred, average=None))"
   ]
  },
  {
   "cell_type": "code",
   "execution_count": 81,
   "metadata": {},
   "outputs": [
    {
     "data": {
      "text/plain": [
       "array([[16677,  7698],\n",
       "       [ 1190, 92606]])"
      ]
     },
     "execution_count": 81,
     "metadata": {},
     "output_type": "execute_result"
    }
   ],
   "source": [
    "# Confusion Matric\n",
    "confusion_matrix(y_true, y_pred)"
   ]
  },
  {
   "cell_type": "code",
   "execution_count": 82,
   "metadata": {},
   "outputs": [
    {
     "name": "stdout",
     "output_type": "stream",
     "text": [
      "Confusion matrix, without normalization\n",
      "[[16677  7698]\n",
      " [ 1190 92606]]\n",
      "Normalized confusion matrix\n",
      "[[0.684 0.316]\n",
      " [0.013 0.987]]\n"
     ]
    },
    {
     "data": {
      "image/png": "[encoded data removed]",
      "text/plain": [
       "<Figure size 432x288 with 2 Axes>"
      ]
     },
     "metadata": {
      "needs_background": "light"
     },
     "output_type": "display_data"
    },
    {
     "data": {
      "image/png": "[encoded data removed]",
      "text/plain": [
       "<Figure size 432x288 with 2 Axes>"
      ]
     },
     "metadata": {
      "needs_background": "light"
     },
     "output_type": "display_data"
    }
   ],
   "source": [
    "class_names = final_model_data.loan_status\n",
    "\n",
    "def plot_confusion_matrix(y_true, y_pred, classes,\n",
    "                          normalize=False,\n",
    "                          title=None,\n",
    "                          cmap=plt.cm.Blues):\n",
    "    \"\"\"\n",
    "    This function prints and plots the confusion matrix.\n",
    "    Normalization can be applied by setting `normalize=True`.\n",
    "    \"\"\"\n",
    "    if not title:\n",
    "        if normalize:\n",
    "            title = 'Normalized confusion matrix'\n",
    "        else:\n",
    "            title = 'Confusion matrix, without normalization'\n",
    "\n",
    "    # Compute confusion matrix\n",
    "    cm = confusion_matrix(y_true, y_pred)\n",
    "    # Only use the labels that appear in the data\n",
    "    classes = class_names.unique()\n",
    "    if normalize:\n",
    "        cm = cm.astype('float') / cm.sum(axis=1)[:, np.newaxis]\n",
    "        print(\"Normalized confusion matrix\")\n",
    "    else:\n",
    "        print('Confusion matrix, without normalization')\n",
    "\n",
    "    print(cm)\n",
    "\n",
    "    fig, ax = plt.subplots()\n",
    "    im = ax.imshow(cm, interpolation='nearest', cmap=cmap)\n",
    "    ax.figure.colorbar(im, ax=ax)\n",
    "    # We want to show all ticks...\n",
    "    ax.set(xticks=np.arange(cm.shape[1]),\n",
    "           yticks=np.arange(cm.shape[0]),\n",
    "           # ... and label them with the respective list entries\n",
    "           xticklabels=classes, yticklabels=classes,\n",
    "           title=title,\n",
    "           ylabel='True label',\n",
    "           xlabel='Predicted label')\n",
    "\n",
    "    # Rotate the tick labels and set their alignment.\n",
    "    plt.setp(ax.get_xticklabels(), rotation=90, ha=\"right\",\n",
    "             rotation_mode=\"anchor\")\n",
    "\n",
    "    # Loop over data dimensions and create text annotations.\n",
    "    fmt = '.2f' if normalize else 'd'\n",
    "    thresh = cm.max() / 2.\n",
    "    for i in range(cm.shape[0]):\n",
    "        for j in range(cm.shape[1]):\n",
    "            ax.text(j, i, format(cm[i, j], fmt),\n",
    "                    ha=\"center\", va=\"center\",\n",
    "                    color=\"white\" if cm[i, j] > thresh else \"black\")\n",
    "    fig.tight_layout()\n",
    "    return ax\n",
    "\n",
    "\n",
    "np.set_printoptions(precision=3)\n",
    "\n",
    "# Plot non-normalized confusion matrix\n",
    "plot_confusion_matrix(y_test, y_pred, classes=class_names,\n",
    "                      title='GNB Confusion matrix, without normalization')\n",
    "plt.savefig('resources/GNB_no_norm_confusion_matrix.png', dpi=600)\n",
    "# Plot normalized confusion matrix\n",
    "plot_confusion_matrix(y_test, y_pred, classes=class_names, normalize=True,\n",
    "                      title='GNB Normalized confusion matrix')\n",
    "\n",
    "plt.savefig('resources/plots/GNB_normalized_confusion_matrix.png', dpi=600)\n",
    "plt.show()"
   ]
  },
  {
   "cell_type": "code",
   "execution_count": 83,
   "metadata": {},
   "outputs": [
    {
     "name": "stdout",
     "output_type": "stream",
     "text": [
      "True Negatives:  16677\n",
      "False Positives:  7698\n",
      "False Negatives:  1190\n",
      "True Positives:  92606\n"
     ]
    }
   ],
   "source": [
    "#extracting true_positives, false_positives, true_negatives, false_negatives\n",
    "tn, fp, fn, tp = confusion_matrix(y_test, y_pred).ravel()\n",
    "print(\"True Negatives: \", tn)\n",
    "print(\"False Positives: \", fp)\n",
    "print(\"False Negatives: \", fn)\n",
    "print(\"True Positives: \", tp)"
   ]
  },
  {
   "cell_type": "code",
   "execution_count": 84,
   "metadata": {},
   "outputs": [
    {
     "name": "stdout",
     "output_type": "stream",
     "text": [
      "Accuracy: 92.4786961267993\n"
     ]
    }
   ],
   "source": [
    "#Accuracy\n",
    "gnb_Accuracy = (tn+tp)*100/(tp+tn+fp+fn) \n",
    "print(f\"Accuracy: {gnb_Accuracy}\")"
   ]
  },
  {
   "cell_type": "code",
   "execution_count": 85,
   "metadata": {},
   "outputs": [
    {
     "name": "stdout",
     "output_type": "stream",
     "text": [
      "Precision: 0.9232533099377891\n"
     ]
    }
   ],
   "source": [
    "#Precision \n",
    "gnb_Precision = tp/(tp+fp) \n",
    "print(f\"Precision: {gnb_Precision}\")"
   ]
  },
  {
   "cell_type": "code",
   "execution_count": 86,
   "metadata": {},
   "outputs": [
    {
     "name": "stdout",
     "output_type": "stream",
     "text": [
      "Recall: 0.987312891807753\n"
     ]
    }
   ],
   "source": [
    "#Recall \n",
    "gnb_Recall = tp/(tp+fn) \n",
    "print(f\"Recall: {gnb_Recall}\")"
   ]
  },
  {
   "cell_type": "code",
   "execution_count": 87,
   "metadata": {},
   "outputs": [
    {
     "name": "stdout",
     "output_type": "stream",
     "text": [
      "F1 Score: 0.9610738255033556\n"
     ]
    }
   ],
   "source": [
    "#F1 Score\n",
    "gnb_f1 = (2*XGB_Precision*XGB_Recall)/(XGB_Precision + XGB_Recall)\n",
    "print(f\"F1 Score: {gnb_f1}\")"
   ]
  },
  {
   "cell_type": "code",
   "execution_count": 88,
   "metadata": {},
   "outputs": [
    {
     "name": "stdout",
     "output_type": "stream",
     "text": [
      "F2 0.9737995490948247\n",
      "\n",
      "F0.5 0.9353914652574079\n"
     ]
    }
   ],
   "source": [
    "#F-beta score calculation\n",
    "def fbeta(gnb_Precision, gnb_Recall, beta):\n",
    "    return ((1+pow(beta,2))*gnb_Precision*gnb_Recall)/(pow(beta,2)*gnb_Precision + gnb_Recall)\n",
    "            \n",
    "gnb_f2 = fbeta(gnb_Precision, gnb_Recall, 2)\n",
    "gnb_f0_5 = fbeta(gnb_Precision, gnb_Recall, 0.5)\n",
    "\n",
    "print(f\"F2 {gnb_f2}\")\n",
    "print(f\"\\nF0.5 {gnb_f0_5}\")"
   ]
  },
  {
   "cell_type": "code",
   "execution_count": 89,
   "metadata": {},
   "outputs": [
    {
     "name": "stdout",
     "output_type": "stream",
     "text": [
      "Specificity 0.6841846153846154\n"
     ]
    }
   ],
   "source": [
    "#Specificity \n",
    "gnb_Specificity = tn/(tn+fp)\n",
    "print(f\"Specificity {gnb_Specificity}\")"
   ]
  },
  {
   "cell_type": "code",
   "execution_count": 90,
   "metadata": {},
   "outputs": [
    {
     "name": "stderr",
     "output_type": "stream",
     "text": [
      "/Users/rogerlefort/anaconda3/envs/loanDefault/lib/python3.7/site-packages/sklearn/utils/deprecation.py:85: DeprecationWarning: Function plot_roc_curve is deprecated; This will be removed in v0.5.0. Please use scikitplot.metrics.plot_roc instead.\n",
      "  warnings.warn(msg, category=DeprecationWarning)\n"
     ]
    },
    {
     "data": {
      "image/png": "[encoded data removed]",
      "text/plain": [
       "<Figure size 432x288 with 1 Axes>"
      ]
     },
     "metadata": {
      "needs_background": "light"
     },
     "output_type": "display_data"
    }
   ],
   "source": [
    "y_pred_proba = XGBmodel.predict_proba(X_test_scaled)\n",
    "skplt.metrics.plot_roc_curve(y_test, y_pred_proba)\n",
    "\n",
    "plt.savefig('resources/plots/gnb_roc.png', dpi=600)\n",
    "plt.show()"
   ]
  },
  {
   "cell_type": "code",
   "execution_count": 120,
   "metadata": {},
   "outputs": [],
   "source": [
    "# Compiling results\n",
    "columns =  ['accuracy', 'precision', 'recall', 'specificity', 'f1', 'fbeta']\n",
    "data= {'model' : ['Logistic Regression', 'Decision Tree', 'K-Nearest Neighbor', 'XGBoost', 'Naive Bayes'],\n",
    "'accuracy' : [LogReg_Accuracy, DTree_Accuracy, KNN_Accuracy, XGB_Accuracy, gnb_Accuracy],\n",
    "'precision' : [LogReg_Precision, DTree_Precision, KNN_Precision, XGB_Precision, gnb_Precision],\n",
    "'specificity' : [LogReg_Specificity, DTree_Specificity, KNN_Specificity, XGB_Specificity, gnb_Specificity],\n",
    "'recall' : [LogReg_Recall, DTree_Recall, KNN_Recall, XGB_Recall, gnb_Recall],\n",
    "'f1' : [LogReg_f1, DTree_f1, KNN_f1, XGB_f1, gnb_f1],\n",
    "'fbeta' : [LogReg_f2, DTree_f2, KNN_f2, XGB_f2, gnb_f2],\n",
    "}\n",
    "\n",
    "model_results_df = pd.DataFrame(data).set_index('model')\n",
    "model_results_df.to_csv('lending-club/model_results.csv')"
   ]
  },
  {
   "cell_type": "code",
   "execution_count": 121,
   "metadata": {},
   "outputs": [
    {
     "data": {
      "text/html": [
       "<div>\n",
       "<style scoped>\n",
       "    .dataframe tbody tr th:only-of-type {\n",
       "        vertical-align: middle;\n",
       "    }\n",
       "\n",
       "    .dataframe tbody tr th {\n",
       "        vertical-align: top;\n",
       "    }\n",
       "\n",
       "    .dataframe thead th {\n",
       "        text-align: right;\n",
       "    }\n",
       "</style>\n",
       "<table border=\"1\" class=\"dataframe\">\n",
       "  <thead>\n",
       "    <tr style=\"text-align: right;\">\n",
       "      <th></th>\n",
       "      <th>accuracy</th>\n",
       "      <th>precision</th>\n",
       "      <th>specificity</th>\n",
       "      <th>recall</th>\n",
       "      <th>f1</th>\n",
       "      <th>fbeta</th>\n",
       "    </tr>\n",
       "    <tr>\n",
       "      <th>model</th>\n",
       "      <th></th>\n",
       "      <th></th>\n",
       "      <th></th>\n",
       "      <th></th>\n",
       "      <th></th>\n",
       "      <th></th>\n",
       "    </tr>\n",
       "  </thead>\n",
       "  <tbody>\n",
       "    <tr>\n",
       "      <th>Logistic Regression</th>\n",
       "      <td>91.360825</td>\n",
       "      <td>0.901934</td>\n",
       "      <td>0.581662</td>\n",
       "      <td>0.999872</td>\n",
       "      <td>0.948381</td>\n",
       "      <td>0.917443</td>\n",
       "    </tr>\n",
       "    <tr>\n",
       "      <th>Decision Tree</th>\n",
       "      <td>87.701720</td>\n",
       "      <td>0.929428</td>\n",
       "      <td>0.732800</td>\n",
       "      <td>0.914495</td>\n",
       "      <td>0.921901</td>\n",
       "      <td>0.917443</td>\n",
       "    </tr>\n",
       "    <tr>\n",
       "      <th>K-Nearest Neighbor</th>\n",
       "      <td>77.674726</td>\n",
       "      <td>0.811681</td>\n",
       "      <td>0.164472</td>\n",
       "      <td>0.935861</td>\n",
       "      <td>0.869359</td>\n",
       "      <td>0.908075</td>\n",
       "    </tr>\n",
       "    <tr>\n",
       "      <th>XGBoost</th>\n",
       "      <td>93.570335</td>\n",
       "      <td>0.925065</td>\n",
       "      <td>0.688287</td>\n",
       "      <td>1.000000</td>\n",
       "      <td>0.961074</td>\n",
       "      <td>0.984057</td>\n",
       "    </tr>\n",
       "    <tr>\n",
       "      <th>Naive Bayes</th>\n",
       "      <td>92.478696</td>\n",
       "      <td>0.923253</td>\n",
       "      <td>0.684185</td>\n",
       "      <td>0.987313</td>\n",
       "      <td>0.961074</td>\n",
       "      <td>0.973800</td>\n",
       "    </tr>\n",
       "  </tbody>\n",
       "</table>\n",
       "</div>"
      ],
      "text/plain": [
       "                      accuracy  precision  specificity    recall        f1  \\\n",
       "model                                                                        \n",
       "Logistic Regression  91.360825   0.901934     0.581662  0.999872  0.948381   \n",
       "Decision Tree        87.701720   0.929428     0.732800  0.914495  0.921901   \n",
       "K-Nearest Neighbor   77.674726   0.811681     0.164472  0.935861  0.869359   \n",
       "XGBoost              93.570335   0.925065     0.688287  1.000000  0.961074   \n",
       "Naive Bayes          92.478696   0.923253     0.684185  0.987313  0.961074   \n",
       "\n",
       "                        fbeta  \n",
       "model                          \n",
       "Logistic Regression  0.917443  \n",
       "Decision Tree        0.917443  \n",
       "K-Nearest Neighbor   0.908075  \n",
       "XGBoost              0.984057  \n",
       "Naive Bayes          0.973800  "
      ]
     },
     "execution_count": 121,
     "metadata": {},
     "output_type": "execute_result"
    }
   ],
   "source": [
    "model_results_df"
   ]
  },
  {
   "cell_type": "code",
   "execution_count": 174,
   "metadata": {
    "scrolled": false
   },
   "outputs": [
    {
     "data": {
      "image/png": "[encoded data removed]",
      "text/plain": [
       "<Figure size 864x576 with 1 Axes>"
      ]
     },
     "metadata": {
      "needs_background": "light"
     },
     "output_type": "display_data"
    },
    {
     "data": {
      "image/png": "[encoded data removed]",
      "text/plain": [
       "<Figure size 864x576 with 1 Axes>"
      ]
     },
     "metadata": {
      "needs_background": "light"
     },
     "output_type": "display_data"
    }
   ],
   "source": [
    "# Tranposing dataframe\n",
    "transposed_results = model_resul_df[['precision', 'recall', 'f1', 'fbeta', 'specificity']].transpose()\n",
    "ax = transposed_results.plot(kind='bar', figsize=(12,8), rot=0)\n",
    "plt.savefig('resources/plots/model_results.png', dpi=600)\n",
    "\n",
    "ax2 = model_resul_df[['accuracy']].plot(kind='bar', figsize=(12,8), rot=0)\n",
    "plt.savefig('resources/plots/model_accuracies.png', dpi=600)"
   ]
  },
  {
   "cell_type": "code",
   "execution_count": null,
   "metadata": {},
   "outputs": [],
   "source": []
  }
 ],
 "metadata": {
  "kernelspec": {
   "display_name": "loanDefault",
   "language": "python",
   "name": "loandefault"
  },
  "language_info": {
   "codemirror_mode": {
    "name": "ipython",
    "version": 3
   },
   "file_extension": ".py",
   "mimetype": "text/x-python",
   "name": "python",
   "nbconvert_exporter": "python",
   "pygments_lexer": "ipython3",
   "version": "3.7.4"
  }
 },
 "nbformat": 4,
 "nbformat_minor": 4
}
